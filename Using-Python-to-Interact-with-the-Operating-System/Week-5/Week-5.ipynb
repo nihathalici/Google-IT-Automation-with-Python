{
  "nbformat": 4,
  "nbformat_minor": 0,
  "metadata": {
    "colab": {
      "name": "Untitled1.ipynb",
      "provenance": [],
      "collapsed_sections": []
    },
    "kernelspec": {
      "name": "python3",
      "display_name": "Python 3"
    }
  },
  "cells": [
    {
      "cell_type": "markdown",
      "metadata": {
        "id": "U1UPI9Nu4XiA"
      },
      "source": [
        "# Week-5"
      ]
    },
    {
      "cell_type": "markdown",
      "metadata": {
        "id": "sC0KVrAwnWRl"
      },
      "source": [
        "### When you test software, what are you really looking for?\n",
        "* Loops\n",
        "* Conditionals\n",
        "* Modules\n",
        "* **Defects**\n",
        "\n",
        "( Correct. \n",
        "Right on! You want to find errors and defects when testing software. )"
      ]
    },
    {
      "cell_type": "markdown",
      "metadata": {
        "id": "RdubF0qyn4Xw"
      },
      "source": [
        "### The advantage of running automated tests is that they will always get the same expected ___ if the software code is good.\n",
        "\n",
        "\n",
        "* Parameters\n",
        "* Command line arguments\n",
        "* Interpreters\n",
        "* **Results**\n",
        "\n",
        "( Correct.\n",
        "Way to go! Automatic tests will always get the same expected result if the software code is good. )"
      ]
    }
  ]
}