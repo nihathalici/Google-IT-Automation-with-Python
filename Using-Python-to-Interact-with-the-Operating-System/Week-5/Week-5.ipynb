{
  "nbformat": 4,
  "nbformat_minor": 0,
  "metadata": {
    "colab": {
      "name": "Untitled1.ipynb",
      "provenance": [],
      "collapsed_sections": []
    },
    "kernelspec": {
      "name": "python3",
      "display_name": "Python 3"
    }
  },
  "cells": [
    {
      "cell_type": "markdown",
      "metadata": {
        "id": "U1UPI9Nu4XiA"
      },
      "source": [
        "# Week-5"
      ]
    },
    {
      "cell_type": "markdown",
      "metadata": {
        "id": "sC0KVrAwnWRl"
      },
      "source": [
        "### When you test software, what are you really looking for?\n",
        "* Loops\n",
        "* Conditionals\n",
        "* Modules\n",
        "* **Defects**\n",
        "\n",
        "( Correct. \n",
        "Right on! You want to find errors and defects when testing software. )"
      ]
    },
    {
      "cell_type": "markdown",
      "metadata": {
        "id": "RdubF0qyn4Xw"
      },
      "source": [
        "### The advantage of running automated tests is that they will always get the same expected ___ if the software code is good.\n",
        "\n",
        "\n",
        "* Parameters\n",
        "* Command line arguments\n",
        "* Interpreters\n",
        "* **Results**\n",
        "\n",
        "( Correct.\n",
        "Way to go! Automatic tests will always get the same expected result if the software code is good. )"
      ]
    },
    {
      "cell_type": "markdown",
      "metadata": {
        "id": "X_1n0W3VyVQW"
      },
      "source": [
        "### An important characteristic of a unit test is ___. \n",
        "\n",
        "\n",
        "* Automation.\n",
        "\n",
        "* An external database\n",
        "\n",
        "* A production environment\n",
        "\n",
        "* **Isolation**\n",
        "\n",
        "( Correct.\n",
        "Nice job! Unit tests test the piece of code they target. )"
      ]
    },
    {
      "cell_type": "markdown",
      "metadata": {
        "id": "90FyGJhuyy49"
      },
      "source": [
        "### What module can you load to use a bunch of testing methods for your unit tests?\n",
        "\n",
        "\n",
        "* TestCase\n",
        "\n",
        "\n",
        "* Test\n",
        "\n",
        "\n",
        "* assertEqual\n",
        "\n",
        "* **unittest**\n",
        "\n",
        "( Correct.\n",
        "Nice job! This module provides a TestCase class with a bunch of testing methods. )"
      ]
    },
    {
      "cell_type": "markdown",
      "metadata": {
        "id": "r48IOg-ZzPuu"
      },
      "source": [
        "### Which of the following would NOT be considered as an edge case when testing a software's input for a user's first and last name?\n",
        "\n",
        "\n",
        "* 0\n",
        "\n",
        "\n",
        "* Ben05\n",
        "\n",
        "\n",
        "* -100\n",
        "\n",
        "\n",
        "* **Jeffrey**\n",
        "\n",
        "( Correct.\n",
        "Excellent! A user's name with only letters is expected. )"
      ]
    },
    {
      "cell_type": "markdown",
      "metadata": {
        "id": "F-xW4mXAzhMY"
      },
      "source": [
        "### Which of the following is NOT an advantage of running an automatic unit test in a suite for a single function?\n",
        "\n",
        "\n",
        "* Creating one script for multiple test cases\n",
        "\n",
        "\n",
        "* Efficiency\n",
        "\n",
        "\n",
        "* Reusable test cases\n",
        "\n",
        "* **Creating multiple test scripts**\n",
        "\n",
        "( Correct.\n",
        "Nicely done! It’s harder to manage multiple test scripts. )"
      ]
    }
  ]
}