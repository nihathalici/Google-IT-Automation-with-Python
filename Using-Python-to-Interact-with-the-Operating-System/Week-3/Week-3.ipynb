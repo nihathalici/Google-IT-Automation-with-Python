{
  "nbformat": 4,
  "nbformat_minor": 0,
  "metadata": {
    "colab": {
      "name": "Untitled1.ipynb",
      "provenance": [],
      "collapsed_sections": []
    },
    "kernelspec": {
      "name": "python3",
      "display_name": "Python 3"
    }
  },
  "cells": [
    {
      "cell_type": "markdown",
      "metadata": {
        "id": "U1UPI9Nu4XiA"
      },
      "source": [
        "# Week-3"
      ]
    },
    {
      "cell_type": "markdown",
      "metadata": {
        "id": "nplXxps2B-A0"
      },
      "source": [
        "### Which of the following demonstrates how regex (regular expressions) might be used?\n",
        "\n",
        "\n",
        "* Recognize an image\n",
        "\n",
        "\n",
        "* Calculate Pi\n",
        "\n",
        "* Multiply and divide arrays\n",
        "\n",
        "* **Find strings of text that match a pattern**\n",
        "\n",
        "( Correct. Awesome! Regex is a search query that matches the regular expression pattern you've specified. )"
      ]
    },
    {
      "cell_type": "markdown",
      "metadata": {
        "id": "EOr_tZKHChiY"
      },
      "source": [
        "### Rather than using the index() function of the string module, we can use regular expressions, which are more flexible. After importing the regular expression module re, what regex function might be used instead of standard methods?\n",
        "\n",
        "* re.pid()\n",
        "\n",
        "\n",
        "* re.index()\n",
        "\n",
        "\n",
        "* re.regex()\n",
        "\n",
        "* **re.search()**\n",
        "\n",
        "( Correct.\n",
        "Great job! Using the re module provides more robust solutions, not limited to just re.search(). )"
      ]
    },
    {
      "cell_type": "markdown",
      "metadata": {
        "id": "C1ySsm2PDM_Y"
      },
      "source": [
        "### Using the terminal, which of the following commands will correctly use grep to find the words “sling” and “sting” (assuming they are in our file, file.txt)?\n",
        "\n",
        "* user@ubuntu:~$ grep sting+sling /usr/file.txt\n",
        "\n",
        "* user@ubuntu:~$ grep(s.ing) /usr/file.txt\n",
        "\n",
        "* user@ubuntu:~$ grep s+ing /usr/file.txt\n",
        "\n",
        "* **user@ubuntu:~$ grep s.ing /usr/file.txt**\n",
        "\n",
        "( Correct.\n",
        "Nice work! In regex, a dot is a wildcard, so it can represent any character. This command will print both “sting” and “sling”, if they are in the file. )"
      ]
    },
    {
      "cell_type": "code",
      "metadata": {
        "colab": {
          "base_uri": "https://localhost:8080/"
        },
        "id": "UgqKdrx8LIvq",
        "outputId": "925a6c62-201c-4136-8090-c8b326bcb1c8"
      },
      "source": [
        "# Fill in the code to check if the text passed contains the vowels a, e and i, \n",
        "# with exactly one occurrence of any other character in between.\n",
        "\n",
        "import re\n",
        "def check_aei (text):\n",
        "  result = re.search(r\"a.e.i\", text)\n",
        "  return result != None\n",
        "\n",
        "print(check_aei(\"academia\")) # True\n",
        "print(check_aei(\"aerial\")) # False\n",
        "print(check_aei(\"paramedic\")) # True"
      ],
      "execution_count": null,
      "outputs": [
        {
          "output_type": "stream",
          "text": [
            "True\n",
            "False\n",
            "True\n"
          ],
          "name": "stdout"
        }
      ]
    },
    {
      "cell_type": "code",
      "metadata": {
        "colab": {
          "base_uri": "https://localhost:8080/"
        },
        "id": "O53n3AFhR_tA",
        "outputId": "d15e3307-a1e8-4bca-c559-1eb3868124d2"
      },
      "source": [
        "# Fill in the code to check if the text passed contains punctuation symbols: \n",
        "# commas, periods, colons, semicolons, question marks, and exclamation points.\n",
        "\n",
        "import re\n",
        "def check_punctuation (text):\n",
        "  result = re.search(r\"[,.:;?!]\", text)\n",
        "  return result != None\n",
        "\n",
        "print(check_punctuation(\"This is a sentence that ends with a period.\")) # True\n",
        "print(check_punctuation(\"This is a sentence fragment without a period\")) # False\n",
        "print(check_punctuation(\"Aren't regular expressions awesome?\")) # True\n",
        "print(check_punctuation(\"Wow! We're really picking up some steam now!\")) # True\n",
        "print(check_punctuation(\"End of the line\")) # False"
      ],
      "execution_count": null,
      "outputs": [
        {
          "output_type": "stream",
          "text": [
            "True\n",
            "False\n",
            "True\n",
            "True\n",
            "False\n"
          ],
          "name": "stdout"
        }
      ]
    },
    {
      "cell_type": "code",
      "metadata": {
        "colab": {
          "base_uri": "https://localhost:8080/"
        },
        "id": "TKhiB_Z-W8ik",
        "outputId": "208f311d-b3bf-4f32-dcfb-8c87d80a2811"
      },
      "source": [
        "'''\n",
        "The repeating_letter_a function checks if the text passed includes the letter \"a\" (lowercase or uppercase) \n",
        "at least twice. For example, repeating_letter_a(\"banana\") is True, while repeating_letter_a(\"pineapple\") \n",
        "is False. Fill in the code to make this work. \n",
        "'''\n",
        "import re\n",
        "def repeating_letter_a(text):\n",
        "  result = re.search(r\"[aA].*[aA]\", text)\n",
        "  return result != None\n",
        "\n",
        "print(repeating_letter_a(\"banana\")) # True\n",
        "print(repeating_letter_a(\"pineapple\")) # False\n",
        "print(repeating_letter_a(\"Animal Kingdom\")) # True\n",
        "print(repeating_letter_a(\"A is for apple\")) # True"
      ],
      "execution_count": 1,
      "outputs": [
        {
          "output_type": "stream",
          "text": [
            "True\n",
            "False\n",
            "True\n",
            "True\n"
          ],
          "name": "stdout"
        }
      ]
    },
    {
      "cell_type": "code",
      "metadata": {
        "colab": {
          "base_uri": "https://localhost:8080/"
        },
        "id": "XGSmUlTrYJZN",
        "outputId": "30b26f6c-155c-4c43-c50a-286c2551c9e7"
      },
      "source": [
        "'''\n",
        "Fill in the code to check if the text passed has at least 2 groups of alphanumeric characters \n",
        "(including letters, numbers, and underscores) separated by one or more whitespace characters.\n",
        "'''\n",
        "import re\n",
        "def check_character_groups(text):\n",
        "  result = re.search(r\"[0-9]\\w\", text)\n",
        "  return result != None\n",
        "\n",
        "print(check_character_groups(\"One\")) # False\n",
        "print(check_character_groups(\"123  Ready Set GO\")) # True\n",
        "print(check_character_groups(\"username user_01\")) # True\n",
        "print(check_character_groups(\"shopping_list: milk, bread, eggs.\")) # False"
      ],
      "execution_count": 2,
      "outputs": [
        {
          "output_type": "stream",
          "text": [
            "False\n",
            "True\n",
            "True\n",
            "False\n"
          ],
          "name": "stdout"
        }
      ]
    },
    {
      "cell_type": "code",
      "metadata": {
        "id": "fg05iY72Ybc0"
      },
      "source": [
        "'''\n",
        "Fill in the code to check if the text passed looks like a standard sentence, \n",
        "meaning that it starts with an uppercase letter, followed by at least some lowercase letters \n",
        "or a space, and ends with a period, question mark, or exclamation point. \n",
        "'''\n",
        "import re\n",
        "def check_sentence(text):\n",
        "  result = re.search(r\"^[A-Z][|a-z ]*[.?!]$\", text)\n",
        "  return result != None\n",
        "\n",
        "print(check_sentence(\"Is this is a sentence?\")) # True\n",
        "print(check_sentence(\"is this is a sentence?\")) # False\n",
        "print(check_sentence(\"Hello\")) # False\n",
        "print(check_sentence(\"1-2-3-GO!\")) # False\n",
        "print(check_sentence(\"A star is born.\")) # True"
      ],
      "execution_count": null,
      "outputs": []
    }
  ]
}