{
  "nbformat": 4,
  "nbformat_minor": 0,
  "metadata": {
    "colab": {
      "name": "Untitled1.ipynb",
      "provenance": [],
      "collapsed_sections": []
    },
    "kernelspec": {
      "name": "python3",
      "display_name": "Python 3"
    }
  },
  "cells": [
    {
      "cell_type": "markdown",
      "metadata": {
        "id": "U1UPI9Nu4XiA"
      },
      "source": [
        "# Week-3"
      ]
    },
    {
      "cell_type": "markdown",
      "metadata": {
        "id": "nplXxps2B-A0"
      },
      "source": [
        "### Which of the following demonstrates how regex (regular expressions) might be used?\n",
        "\n",
        "\n",
        "* Recognize an image\n",
        "\n",
        "\n",
        "* Calculate Pi\n",
        "\n",
        "* Multiply and divide arrays\n",
        "\n",
        "* **Find strings of text that match a pattern**\n",
        "\n",
        "( Correct. Awesome! Regex is a search query that matches the regular expression pattern you've specified. )"
      ]
    },
    {
      "cell_type": "markdown",
      "metadata": {
        "id": "EOr_tZKHChiY"
      },
      "source": [
        "### Rather than using the index() function of the string module, we can use regular expressions, which are more flexible. After importing the regular expression module re, what regex function might be used instead of standard methods?\n",
        "\n",
        "* re.pid()\n",
        "\n",
        "\n",
        "* re.index()\n",
        "\n",
        "\n",
        "* re.regex()\n",
        "\n",
        "* **re.search()**\n",
        "\n",
        "( Correct.\n",
        "Great job! Using the re module provides more robust solutions, not limited to just re.search(). )"
      ]
    },
    {
      "cell_type": "markdown",
      "metadata": {
        "id": "C1ySsm2PDM_Y"
      },
      "source": [
        "### Using the terminal, which of the following commands will correctly use grep to find the words “sling” and “sting” (assuming they are in our file, file.txt)?\n",
        "\n",
        "* user@ubuntu:~$ grep sting+sling /usr/file.txt\n",
        "\n",
        "* user@ubuntu:~$ grep(s.ing) /usr/file.txt\n",
        "\n",
        "* user@ubuntu:~$ grep s+ing /usr/file.txt\n",
        "\n",
        "* **user@ubuntu:~$ grep s.ing /usr/file.txt**\n",
        "\n",
        "( Correct.\n",
        "Nice work! In regex, a dot is a wildcard, so it can represent any character. This command will print both “sting” and “sling”, if they are in the file. )"
      ]
    },
    {
      "cell_type": "code",
      "metadata": {
        "colab": {
          "base_uri": "https://localhost:8080/"
        },
        "id": "UgqKdrx8LIvq",
        "outputId": "925a6c62-201c-4136-8090-c8b326bcb1c8"
      },
      "source": [
        "# Fill in the code to check if the text passed contains the vowels a, e and i, \n",
        "# with exactly one occurrence of any other character in between.\n",
        "\n",
        "import re\n",
        "def check_aei (text):\n",
        "  result = re.search(r\"a.e.i\", text)\n",
        "  return result != None\n",
        "\n",
        "print(check_aei(\"academia\")) # True\n",
        "print(check_aei(\"aerial\")) # False\n",
        "print(check_aei(\"paramedic\")) # True"
      ],
      "execution_count": null,
      "outputs": [
        {
          "output_type": "stream",
          "text": [
            "True\n",
            "False\n",
            "True\n"
          ],
          "name": "stdout"
        }
      ]
    },
    {
      "cell_type": "code",
      "metadata": {
        "colab": {
          "base_uri": "https://localhost:8080/"
        },
        "id": "O53n3AFhR_tA",
        "outputId": "d15e3307-a1e8-4bca-c559-1eb3868124d2"
      },
      "source": [
        "# Fill in the code to check if the text passed contains punctuation symbols: \n",
        "# commas, periods, colons, semicolons, question marks, and exclamation points.\n",
        "\n",
        "import re\n",
        "def check_punctuation (text):\n",
        "  result = re.search(r\"[,.:;?!]\", text)\n",
        "  return result != None\n",
        "\n",
        "print(check_punctuation(\"This is a sentence that ends with a period.\")) # True\n",
        "print(check_punctuation(\"This is a sentence fragment without a period\")) # False\n",
        "print(check_punctuation(\"Aren't regular expressions awesome?\")) # True\n",
        "print(check_punctuation(\"Wow! We're really picking up some steam now!\")) # True\n",
        "print(check_punctuation(\"End of the line\")) # False"
      ],
      "execution_count": null,
      "outputs": [
        {
          "output_type": "stream",
          "text": [
            "True\n",
            "False\n",
            "True\n",
            "True\n",
            "False\n"
          ],
          "name": "stdout"
        }
      ]
    },
    {
      "cell_type": "code",
      "metadata": {
        "colab": {
          "base_uri": "https://localhost:8080/"
        },
        "id": "TKhiB_Z-W8ik",
        "outputId": "208f311d-b3bf-4f32-dcfb-8c87d80a2811"
      },
      "source": [
        "'''\n",
        "The repeating_letter_a function checks if the text passed includes the letter \"a\" (lowercase or uppercase) \n",
        "at least twice. For example, repeating_letter_a(\"banana\") is True, while repeating_letter_a(\"pineapple\") \n",
        "is False. Fill in the code to make this work. \n",
        "'''\n",
        "import re\n",
        "def repeating_letter_a(text):\n",
        "  result = re.search(r\"[aA].*[aA]\", text)\n",
        "  return result != None\n",
        "\n",
        "print(repeating_letter_a(\"banana\")) # True\n",
        "print(repeating_letter_a(\"pineapple\")) # False\n",
        "print(repeating_letter_a(\"Animal Kingdom\")) # True\n",
        "print(repeating_letter_a(\"A is for apple\")) # True"
      ],
      "execution_count": null,
      "outputs": [
        {
          "output_type": "stream",
          "text": [
            "True\n",
            "False\n",
            "True\n",
            "True\n"
          ],
          "name": "stdout"
        }
      ]
    },
    {
      "cell_type": "code",
      "metadata": {
        "colab": {
          "base_uri": "https://localhost:8080/"
        },
        "id": "XGSmUlTrYJZN",
        "outputId": "30b26f6c-155c-4c43-c50a-286c2551c9e7"
      },
      "source": [
        "'''\n",
        "Fill in the code to check if the text passed has at least 2 groups of alphanumeric characters \n",
        "(including letters, numbers, and underscores) separated by one or more whitespace characters.\n",
        "'''\n",
        "import re\n",
        "def check_character_groups(text):\n",
        "  result = re.search(r\"[0-9]\\w\", text)\n",
        "  return result != None\n",
        "\n",
        "print(check_character_groups(\"One\")) # False\n",
        "print(check_character_groups(\"123  Ready Set GO\")) # True\n",
        "print(check_character_groups(\"username user_01\")) # True\n",
        "print(check_character_groups(\"shopping_list: milk, bread, eggs.\")) # False"
      ],
      "execution_count": null,
      "outputs": [
        {
          "output_type": "stream",
          "text": [
            "False\n",
            "True\n",
            "True\n",
            "False\n"
          ],
          "name": "stdout"
        }
      ]
    },
    {
      "cell_type": "code",
      "metadata": {
        "id": "fg05iY72Ybc0",
        "colab": {
          "base_uri": "https://localhost:8080/"
        },
        "outputId": "73fe2454-cda4-4d21-8411-57c67e74681c"
      },
      "source": [
        "'''\n",
        "Fill in the code to check if the text passed looks like a standard sentence, \n",
        "meaning that it starts with an uppercase letter, followed by at least some lowercase letters \n",
        "or a space, and ends with a period, question mark, or exclamation point. \n",
        "'''\n",
        "import re\n",
        "def check_sentence(text):\n",
        "  result = re.search(r\"^[A-Z][|a-z ]*[.?!]$\", text)\n",
        "  return result != None\n",
        "\n",
        "print(check_sentence(\"Is this is a sentence?\")) # True\n",
        "print(check_sentence(\"is this is a sentence?\")) # False\n",
        "print(check_sentence(\"Hello\")) # False\n",
        "print(check_sentence(\"1-2-3-GO!\")) # False\n",
        "print(check_sentence(\"A star is born.\")) # True"
      ],
      "execution_count": 2,
      "outputs": [
        {
          "output_type": "stream",
          "text": [
            "True\n",
            "False\n",
            "False\n",
            "False\n",
            "True\n"
          ],
          "name": "stdout"
        }
      ]
    },
    {
      "cell_type": "code",
      "metadata": {
        "colab": {
          "base_uri": "https://localhost:8080/"
        },
        "id": "pA6D5Ff1d5tM",
        "outputId": "94360c9e-5c3b-4f19-f8bb-4365c066d351"
      },
      "source": [
        "'''\n",
        "Fix the regular expression used in the rearrange_name function so that it can \n",
        "match middle names, middle initials, as well as double surnames.\n",
        "'''\n",
        "import re\n",
        "def rearrange_name(name):\n",
        "  result = re.search(r\"^([\\w \\.-]*[\\w]?), ([\\w \\.-]*[\\w]?)$\", name)\n",
        "  if result == None:\n",
        "    return name\n",
        "  return \"{} {}\".format(result[2], result[1])\n",
        "\n",
        "name=rearrange_name(\"Kennedy, John F.\")\n",
        "print(name)"
      ],
      "execution_count": 1,
      "outputs": [
        {
          "output_type": "stream",
          "text": [
            "John F. Kennedy\n"
          ],
          "name": "stdout"
        }
      ]
    },
    {
      "cell_type": "code",
      "metadata": {
        "colab": {
          "base_uri": "https://localhost:8080/"
        },
        "id": "jiTuAu-4fQdc",
        "outputId": "1086951e-21ae-4ef7-98f4-4a62e44da804"
      },
      "source": [
        "'''\n",
        "The long_words function returns all words that are at least 7 characters. \n",
        "Fill in the regular expression to complete this function.\n",
        "'''\n",
        "import re\n",
        "def long_words(text):\n",
        "  pattern = r\"\\w{7,}\"\n",
        "  result = re.findall(pattern, text)\n",
        "  return result\n",
        "\n",
        "print(long_words(\"I like to drink coffee in the morning.\")) # ['morning']\n",
        "print(long_words(\"I also have a taste for hot chocolate in the afternoon.\")) # ['chocolate', 'afternoon']\n",
        "print(long_words(\"I never drink tea late at night.\")) # []"
      ],
      "execution_count": 3,
      "outputs": [
        {
          "output_type": "stream",
          "text": [
            "['morning']\n",
            "['chocolate', 'afternoon']\n",
            "[]\n"
          ],
          "name": "stdout"
        }
      ]
    },
    {
      "cell_type": "code",
      "metadata": {
        "colab": {
          "base_uri": "https://localhost:8080/"
        },
        "id": "XPpvINKUfuP0",
        "outputId": "a3b522ef-5e1a-4730-e684-08ca8c969535"
      },
      "source": [
        "'''\n",
        "Add to the regular expression used in the extract_pid function, \n",
        "to return the uppercase message in parenthesis, after the process id.\n",
        "'''\n",
        "import re\n",
        "def extract_pid(log_line):\n",
        "    regex = r\"\\[(\\d+)\\]:\\s([A-Z]+)\"\n",
        "    result = re.search(regex, log_line)\n",
        "    if result is None:\n",
        "        return None\n",
        "    return \"{} ({})\".format(result[1], result[2])\n",
        "\n",
        "print(extract_pid(\"July 31 07:51:48 mycomputer bad_process[12345]: ERROR Performing package upgrade\")) # 12345 (ERROR)\n",
        "print(extract_pid(\"99 elephants in a [cage]\")) # None\n",
        "print(extract_pid(\"A string that also has numbers [34567] but no uppercase message\")) # None\n",
        "print(extract_pid(\"July 31 08:08:08 mycomputer new_process[67890]: RUNNING Performing backup\")) # 67890 (RUNNING)"
      ],
      "execution_count": 4,
      "outputs": [
        {
          "output_type": "stream",
          "text": [
            "12345 (ERROR)\n",
            "None\n",
            "None\n",
            "67890 (RUNNING)\n"
          ],
          "name": "stdout"
        }
      ]
    },
    {
      "cell_type": "markdown",
      "metadata": {
        "id": "4u4a3tyUgKaP"
      },
      "source": [
        "### We want to split a piece of text by either the word \"a\" or \"the\", as implemented in the following code. What is the resulting split list?\n",
        "\n",
        "re.split(r\"the|a\", \"One sentence. Another one? And the last one!\")\n",
        "\n",
        "* ['One sentence. Another one? And ', ' last one!']\n",
        "* ['One sentence. Another one? And ', 'the', ' last one!']\n",
        "* ['One sentence. Ano', 'the', 'r one? And ', 'the', ' l', 'a', 'st one!']\n",
        "\n",
        "* **['One sentence. Ano', 'r one? And ', ' l', 'st one!']**\n",
        "\n",
        "( Correct. Well done! This regular expression uses \"the\" and \"a\" as delimiters, no matter where they are in the text, even in the middle of other words like \"Another\" and \"last\". )"
      ]
    }
  ]
}