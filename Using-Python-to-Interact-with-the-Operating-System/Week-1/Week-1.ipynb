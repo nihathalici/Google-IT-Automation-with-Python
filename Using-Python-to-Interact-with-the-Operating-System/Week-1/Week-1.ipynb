{
  "nbformat": 4,
  "nbformat_minor": 0,
  "metadata": {
    "colab": {
      "name": "Untitled1.ipynb",
      "provenance": [],
      "collapsed_sections": []
    },
    "kernelspec": {
      "name": "python3",
      "display_name": "Python 3"
    }
  },
  "cells": [
    {
      "cell_type": "markdown",
      "metadata": {
        "id": "U1UPI9Nu4XiA"
      },
      "source": [
        "# Week-1"
      ]
    },
    {
      "cell_type": "markdown",
      "metadata": {
        "id": "R-gPzmQo0zbw"
      },
      "source": [
        "### Which of the following is NOT an open-source OS?\n",
        "\n",
        "\n",
        "* Ubuntu Linux\n",
        "\n",
        "\n",
        "* FreeBSD\n",
        "\n",
        "\n",
        "* Android\n",
        "\n",
        "\n",
        "* **Microsoft Windows**\n",
        "\n",
        "( Correct. Right on! The Windows operating system is a proprietary OS developed exclusively by Microsoft. )"
      ]
    },
    {
      "cell_type": "markdown",
      "metadata": {
        "id": "Zh9ONYA81PKe"
      },
      "source": [
        "### What is the name of the command line tool commonly used to install, update, and remove external Python modules mentioned in the video?\n",
        "\n",
        "\n",
        "* PyPI\n",
        "\n",
        "\n",
        "* python3 --version\n",
        "\n",
        "\n",
        "* conda\n",
        "\n",
        "* **pip**\n",
        "\n",
        "( Correct. Awesome! pip is a cross-platform tool called a package manager used to install, update, or remove external Python modules.)"
      ]
    },
    {
      "cell_type": "markdown",
      "metadata": {
        "id": "pVDAjRQa2IKb"
      },
      "source": [
        "### Which of the following programming languages are interpreted languages?\n",
        "\n",
        "\n",
        "* Java and C#\n",
        "\n",
        "* C++ and Go\n",
        "\n",
        "* C and Rust\n",
        "\n",
        "* **Python and Javascript**\n",
        "\n",
        "( Correct. Nailed it! Interpreted languages trade off slightly slower runtime performance—removing the need for compiling—by using programs called interpreters to execute the code. )"
      ]
    },
    {
      "cell_type": "markdown",
      "metadata": {
        "id": "GOScLlhs2w8H"
      },
      "source": [
        "### What is the purpose of using a shebang line in a Python file?\n",
        "\n",
        "\n",
        "* To tell the operating system where to find programs to execute.\n",
        "\n",
        "\n",
        "* To tell the operating system to execute a file in the current directory.\n",
        "\n",
        "* To make the specified file executable by changing permissions.\n",
        "\n",
        "* **To specify beforehand what command to use when running the script.**\n",
        "\n",
        "( Correct. Keep it up! Inserting a shebang line (such as #!/usr/bin/env python3) as the first line tells the operating system what command we want to use to execute the script. )"
      ]
    },
    {
      "cell_type": "markdown",
      "metadata": {
        "id": "fyzHwuwb3lSG"
      },
      "source": [
        "### Proper code reuse is important, so let’s see if you were paying attention. Which of the following lines will allow you to use the datetime module in your script?\n",
        "\n",
        "\n",
        "* use datetime\n",
        "\n",
        "\n",
        "* using datetime\n",
        "\n",
        "\n",
        "* date_time = datetime\n",
        "\n",
        "\n",
        "* import datetime\n",
        "\n",
        "( Correct. You got it! We use the import command to import any module located in the PATH directory. We can also use import as to assign a localName variable to the imported module. )"
      ]
    },
    {
      "cell_type": "markdown",
      "metadata": {
        "id": "ZlrysmRU4CO8"
      },
      "source": [
        "### Which of the following is NOT an example of code completion?\n",
        "\n",
        "\n",
        "* After you type the letters “ret”, your IDE finishes your sentence with return.\n",
        "\n",
        "\n",
        "* After typing the opening parentheses after a function, your IDE inputs the final parentheses.\n",
        "\n",
        "* After typing the first few letters of an existing variable, your IDE suggests that variable, highlighting the suggestion.\n",
        "\n",
        "* **After typing “def”, your IDE detects that you are typing a function and highlights it.**\n",
        "\n",
        "( Correct. Excellent! Syntax highlighting detects the language we’re writing our code in and highlights the pieces of code that make up the syntax of the language. )"
      ]
    }
  ]
}