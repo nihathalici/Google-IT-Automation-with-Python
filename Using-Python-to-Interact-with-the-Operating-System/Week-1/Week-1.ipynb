{
  "nbformat": 4,
  "nbformat_minor": 0,
  "metadata": {
    "colab": {
      "name": "Untitled1.ipynb",
      "provenance": [],
      "collapsed_sections": []
    },
    "kernelspec": {
      "name": "python3",
      "display_name": "Python 3"
    }
  },
  "cells": [
    {
      "cell_type": "markdown",
      "metadata": {
        "id": "U1UPI9Nu4XiA"
      },
      "source": [
        "# Week-1"
      ]
    },
    {
      "cell_type": "markdown",
      "metadata": {
        "id": "R-gPzmQo0zbw"
      },
      "source": [
        "### Which of the following is NOT an open-source OS?\n",
        "\n",
        "\n",
        "* Ubuntu Linux\n",
        "\n",
        "\n",
        "* FreeBSD\n",
        "\n",
        "\n",
        "* Android\n",
        "\n",
        "\n",
        "* **Microsoft Windows**\n",
        "\n",
        "( Correct. Right on! The Windows operating system is a proprietary OS developed exclusively by Microsoft. )"
      ]
    },
    {
      "cell_type": "markdown",
      "metadata": {
        "id": "Zh9ONYA81PKe"
      },
      "source": [
        "### What is the name of the command line tool commonly used to install, update, and remove external Python modules mentioned in the video?\n",
        "\n",
        "\n",
        "* PyPI\n",
        "\n",
        "\n",
        "* python3 --version\n",
        "\n",
        "\n",
        "* conda\n",
        "\n",
        "* **pip**\n",
        "\n",
        "( Correct. Awesome! pip is a cross-platform tool called a package manager used to install, update, or remove external Python modules.)"
      ]
    },
    {
      "cell_type": "markdown",
      "metadata": {
        "id": "pVDAjRQa2IKb"
      },
      "source": [
        "### Which of the following programming languages are interpreted languages?\n",
        "\n",
        "\n",
        "* Java and C#\n",
        "\n",
        "* C++ and Go\n",
        "\n",
        "* C and Rust\n",
        "\n",
        "* **Python and Javascript**\n",
        "\n",
        "( Correct. Nailed it! Interpreted languages trade off slightly slower runtime performance—removing the need for compiling—by using programs called interpreters to execute the code. )"
      ]
    },
    {
      "cell_type": "markdown",
      "metadata": {
        "id": "GOScLlhs2w8H"
      },
      "source": [
        "### What is the purpose of using a shebang line in a Python file?\n",
        "\n",
        "\n",
        "* To tell the operating system where to find programs to execute.\n",
        "\n",
        "\n",
        "* To tell the operating system to execute a file in the current directory.\n",
        "\n",
        "* To make the specified file executable by changing permissions.\n",
        "\n",
        "* **To specify beforehand what command to use when running the script.**\n",
        "\n",
        "( Correct. Keep it up! Inserting a shebang line (such as #!/usr/bin/env python3) as the first line tells the operating system what command we want to use to execute the script. )"
      ]
    },
    {
      "cell_type": "markdown",
      "metadata": {
        "id": "fyzHwuwb3lSG"
      },
      "source": [
        "### Proper code reuse is important, so let’s see if you were paying attention. Which of the following lines will allow you to use the datetime module in your script?\n",
        "\n",
        "\n",
        "* use datetime\n",
        "\n",
        "\n",
        "* using datetime\n",
        "\n",
        "\n",
        "* date_time = datetime\n",
        "\n",
        "\n",
        "* import datetime\n",
        "\n",
        "( Correct. You got it! We use the import command to import any module located in the PATH directory. We can also use import as to assign a localName variable to the imported module. )"
      ]
    },
    {
      "cell_type": "markdown",
      "metadata": {
        "id": "ZlrysmRU4CO8"
      },
      "source": [
        "### Which of the following is NOT an example of code completion?\n",
        "\n",
        "\n",
        "* After you type the letters “ret”, your IDE finishes your sentence with return.\n",
        "\n",
        "\n",
        "* After typing the opening parentheses after a function, your IDE inputs the final parentheses.\n",
        "\n",
        "* After typing the first few letters of an existing variable, your IDE suggests that variable, highlighting the suggestion.\n",
        "\n",
        "* **After typing “def”, your IDE detects that you are typing a function and highlights it.**\n",
        "\n",
        "( Correct. Excellent! Syntax highlighting detects the language we’re writing our code in and highlights the pieces of code that make up the syntax of the language. )"
      ]
    },
    {
      "cell_type": "markdown",
      "metadata": {
        "id": "TPTpfxgPTOt6"
      },
      "source": [
        "### In terms of automation, which of the following is an example of scalability?\n",
        "\n",
        "\n",
        "* You fix an error in a script and it’s fixed there, once and forever.\n",
        " \n",
        "\n",
        "* A company hires more IT staff to keep up with work levels.\n",
        "\n",
        "\n",
        "* Minimizing workloads to stay within current productivity levels\n",
        "\n",
        "* **An IT engineer writes a script to compile a report on each machine's uptime and downtime for the day and email it to relevant parties every evening.**\n",
        "\n",
        "( Correct. Nice job! Scalability means that when more work is added to a system, the system can do whatever it needs to complete the work. )"
      ]
    },
    {
      "cell_type": "markdown",
      "metadata": {
        "id": "U_y2VsE9Tvyo"
      },
      "source": [
        "### Which of the following correctly describes the Pareto Principle?\n",
        "\n",
        "\n",
        "* Is the time and effort it takes to write the script worth the potential automation benefits?\n",
        "\n",
        "\n",
        "* If we estimate that it’d take less time to automate the task than to do it manually, chances are it’s a good candidate for automation.\n",
        "\n",
        "\n",
        "* Four fifths of the sysadmin tasks you perform comprise one fifth of your total workload.\n",
        "\n",
        "* **One fifth of the sysadmin tasks you perform comprise four fifths of your total workload.**\n",
        "\n",
        "( Correct. Awesome! The Pareto Principle states that 20% of the system administration tasks you perform are responsible for 80% of your workload. Therefore, identifying and automating those tasks will put your productivity through the roof! )"
      ]
    },
    {
      "cell_type": "markdown",
      "metadata": {
        "id": "COGerPk5UPaz"
      },
      "source": [
        "### Which of the following could be a good example of when to use an automation script?\n",
        "\n",
        "\n",
        "* Automate a process that will take longer to implement than it takes to do manually\n",
        "\n",
        "\n",
        "* Automate a process you might never use again\n",
        "\n",
        "\n",
        "* Automate a five-minute process that occurs once every six months\n",
        "\n",
        "* **Detect dangerously high CPU usage levels across a network and scale back the CPU clock speeds of those devices, or shut them down to prevent overheating**\n",
        "\n",
        "( Correct. Awesome! These days most consumer devices do this on their own, but in the case of custom hardware or other specific use cases such as cluster networks, automation would fit this task nicely and reduce failover. )"
      ]
    },
    {
      "cell_type": "markdown",
      "metadata": {
        "id": "RPoF_9rmUlNe"
      },
      "source": [
        "### What is a virtual machine?\n",
        "\n",
        "\n",
        "* An internet-connected computer\n",
        "\n",
        "\n",
        "* Cloud-based storage\n",
        "\n",
        "\n",
        "* A command that allows you to interact with remote Linux computers\n",
        "\n",
        "\n",
        "* **Simulated hardware**\n",
        "\n",
        "( Correct. Nice job! A virtual machine, or VM, is a computer simulated through software. It simulates all the necessary hardware to the operating system that's running inside the machine. )"
      ]
    }
  ]
}