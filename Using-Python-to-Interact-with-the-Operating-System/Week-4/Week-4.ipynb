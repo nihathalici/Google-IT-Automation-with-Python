{
  "nbformat": 4,
  "nbformat_minor": 0,
  "metadata": {
    "colab": {
      "name": "Untitled1.ipynb",
      "provenance": [],
      "collapsed_sections": []
    },
    "kernelspec": {
      "name": "python3",
      "display_name": "Python 3"
    }
  },
  "cells": [
    {
      "cell_type": "markdown",
      "metadata": {
        "id": "U1UPI9Nu4XiA"
      },
      "source": [
        "# Week-4"
      ]
    },
    {
      "cell_type": "markdown",
      "metadata": {
        "id": "NY0JAHATc6Ur"
      },
      "source": [
        "### Which line of code from the seconds.py script will convert all integer inputs into seconds?\n",
        "\n",
        "\n",
        "* int(input(\"Enter the number of seconds: \"))\n",
        "\n",
        "\n",
        "* int(input(\"Enter the number of minutes: \"))\n",
        "\n",
        "\n",
        "* int(input(\"Enter the number of hours: \"))\n",
        "\n",
        "\n",
        "* **to_seconds(hours, minutes, seconds)**\n",
        "\n",
        "( Correct.\n",
        "Awesome! This line of code uses a function to convert the number of hours, minutes, and seconds into seconds. )"
      ]
    }
  ]
}