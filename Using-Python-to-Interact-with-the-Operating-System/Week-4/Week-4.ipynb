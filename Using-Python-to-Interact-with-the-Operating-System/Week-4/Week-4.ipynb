{
  "nbformat": 4,
  "nbformat_minor": 0,
  "metadata": {
    "colab": {
      "name": "Untitled1.ipynb",
      "provenance": [],
      "collapsed_sections": []
    },
    "kernelspec": {
      "name": "python3",
      "display_name": "Python 3"
    }
  },
  "cells": [
    {
      "cell_type": "markdown",
      "metadata": {
        "id": "U1UPI9Nu4XiA"
      },
      "source": [
        "# Week-4"
      ]
    },
    {
      "cell_type": "markdown",
      "metadata": {
        "id": "NY0JAHATc6Ur"
      },
      "source": [
        "### Which line of code from the seconds.py script will convert all integer inputs into seconds?\n",
        "\n",
        "\n",
        "* int(input(\"Enter the number of seconds: \"))\n",
        "\n",
        "\n",
        "* int(input(\"Enter the number of minutes: \"))\n",
        "\n",
        "\n",
        "* int(input(\"Enter the number of hours: \"))\n",
        "\n",
        "\n",
        "* **to_seconds(hours, minutes, seconds)**\n",
        "\n",
        "( Correct.\n",
        "Awesome! This line of code uses a function to convert the number of hours, minutes, and seconds into seconds. )"
      ]
    },
    {
      "cell_type": "markdown",
      "metadata": {
        "id": "8pkvjdadn3wc"
      },
      "source": [
        "### Which I/O stream is the output function using when showing an error message?\n",
        "\n",
        "\n",
        "* STDIN\n",
        "* STDOUT\n",
        "* PRINT\n",
        "* **STDERR**\n",
        "\n",
        "( Correct.\n",
        "You nailed it! STDERR displays output specifically for error messages. )"
      ]
    },
    {
      "cell_type": "markdown",
      "metadata": {
        "id": "RtSnYJ5WoSPB"
      },
      "source": [
        "### Which directory is NOT listed in the PATH variable by default?\n",
        "\n",
        "* /usr/local/sbin\n",
        "* /bin\n",
        "* /sbin\n",
        "* **/usr/sbin/temp**\n",
        "\n",
        "( Correct.\n",
        "Right on! This directory is not listed by default. )"
      ]
    },
    {
      "cell_type": "markdown",
      "metadata": {
        "id": "Mdx87I22ou5P"
      },
      "source": [
        "### Where are the command line arguments stored?\n",
        "* argv\n",
        "* parameters.py\n",
        "* print\n",
        "* **sys**\n",
        "\n",
        "( Correct.\n",
        "Nice job! The list of arguments are stored in the sys module. )"
      ]
    }
  ]
}