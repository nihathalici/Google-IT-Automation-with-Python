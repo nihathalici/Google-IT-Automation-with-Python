{
  "nbformat": 4,
  "nbformat_minor": 0,
  "metadata": {
    "colab": {
      "name": "Untitled1.ipynb",
      "provenance": [],
      "collapsed_sections": []
    },
    "kernelspec": {
      "name": "python3",
      "display_name": "Python 3"
    }
  },
  "cells": [
    {
      "cell_type": "markdown",
      "metadata": {
        "id": "U1UPI9Nu4XiA"
      },
      "source": [
        "# Week-4"
      ]
    },
    {
      "cell_type": "markdown",
      "metadata": {
        "id": "NY0JAHATc6Ur"
      },
      "source": [
        "### Which line of code from the seconds.py script will convert all integer inputs into seconds?\n",
        "\n",
        "\n",
        "* int(input(\"Enter the number of seconds: \"))\n",
        "\n",
        "\n",
        "* int(input(\"Enter the number of minutes: \"))\n",
        "\n",
        "\n",
        "* int(input(\"Enter the number of hours: \"))\n",
        "\n",
        "\n",
        "* **to_seconds(hours, minutes, seconds)**\n",
        "\n",
        "( Correct.\n",
        "Awesome! This line of code uses a function to convert the number of hours, minutes, and seconds into seconds. )"
      ]
    },
    {
      "cell_type": "markdown",
      "metadata": {
        "id": "8pkvjdadn3wc"
      },
      "source": [
        "### Which I/O stream is the output function using when showing an error message?\n",
        "\n",
        "\n",
        "* STDIN\n",
        "* STDOUT\n",
        "* PRINT\n",
        "* **STDERR**\n",
        "\n",
        "( Correct.\n",
        "You nailed it! STDERR displays output specifically for error messages. )"
      ]
    },
    {
      "cell_type": "markdown",
      "metadata": {
        "id": "RtSnYJ5WoSPB"
      },
      "source": [
        "### Which directory is NOT listed in the PATH variable by default?\n",
        "\n",
        "* /usr/local/sbin\n",
        "* /bin\n",
        "* /sbin\n",
        "* **/usr/sbin/temp**\n",
        "\n",
        "( Correct.\n",
        "Right on! This directory is not listed by default. )"
      ]
    },
    {
      "cell_type": "markdown",
      "metadata": {
        "id": "Mdx87I22ou5P"
      },
      "source": [
        "### Where are the command line arguments stored?\n",
        "* argv\n",
        "* parameters.py\n",
        "* print\n",
        "* **sys**\n",
        "\n",
        "( Correct.\n",
        "Nice job! The list of arguments are stored in the sys module. )"
      ]
    },
    {
      "cell_type": "markdown",
      "metadata": {
        "id": "F6jAAJ659hOF"
      },
      "source": [
        "### A system command that sends ICMP packets can be executed within a script by using which of the following?\n",
        "\n",
        "* Ping\n",
        "* CompletedProcess\n",
        "* Arguments\n",
        "* **subprocess.run**\n",
        "\n",
        "( Correct.\n",
        "Right on! This function will execute a system command such as ping. )"
      ]
    },
    {
      "cell_type": "markdown",
      "metadata": {
        "id": "kaBASOuY982m"
      },
      "source": [
        "### Which of the following is a Unicode standard used to convert an array of bytes into a string?\n",
        "* stdout\n",
        "* capture_output\n",
        "* Host\n",
        "* **UTF-8**\n",
        "\n",
        "( Correct. Woohoo! This encoding is part of the Unicode standard that can transform an array of bytes into a string. )"
      ]
    },
    {
      "cell_type": "markdown",
      "metadata": {
        "id": "lwA4pE1J-ZSP"
      },
      "source": [
        "### Which method do you use to prepare a new environment to modify environment variables?\n",
        "* join\n",
        "* env\n",
        "* cwd\n",
        "* **copy**\n",
        "\n",
        "( Correct. Awesome! Calling this method of the os.environ dictionary will copy the current environment variables to store and prepare a new environment. )"
      ]
    }
  ]
}