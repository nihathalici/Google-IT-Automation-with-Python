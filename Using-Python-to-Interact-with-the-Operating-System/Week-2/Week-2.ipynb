{
  "nbformat": 4,
  "nbformat_minor": 0,
  "metadata": {
    "colab": {
      "name": "Untitled1.ipynb",
      "provenance": [],
      "collapsed_sections": []
    },
    "kernelspec": {
      "name": "python3",
      "display_name": "Python 3"
    }
  },
  "cells": [
    {
      "cell_type": "markdown",
      "metadata": {
        "id": "U1UPI9Nu4XiA"
      },
      "source": [
        "# Week-2"
      ]
    },
    {
      "cell_type": "markdown",
      "metadata": {
        "id": "ViISgbGOQh1K"
      },
      "source": [
        "### What is the difference between the readline() and read() methods?\n",
        "\n",
        "\n",
        "* The readline() method starts from the current position, while the read() method reads the whole file.\n",
        "\n",
        "\n",
        "* The read() method reads a single line, the readline() method reads the whole file.\n",
        "\n",
        "\n",
        "* The readline() method reads the first line of the file, the read() method reads the whole file.\n",
        "\n",
        "\n",
        "* **The readline() method reads a single line from the current position, the read() method reads from the current position until the end of the file.**\n",
        "\n",
        "( Correct.\n",
        "Right on! Both methods read from the current position. The readline() method reads one line, while read() reads until the end of the file. )"
      ]
    },
    {
      "cell_type": "code",
      "metadata": {
        "id": "Iqf8uVMqRAC0"
      },
      "source": [
        "# Can you identify which code snippet will correctly open a file and print lines one by one without whitespace?\n",
        "\n",
        "with open(\"hello_world.txt\") as text:\n",
        "    for line in text:\n",
        "\t    print(line)\n",
        "\n",
        "with open(\"hello_world.txt\") as text:\n",
        "    for line in text:\n",
        "\t    print(text)\n",
        "     \n",
        "with open(\"hello_world.txt\") as text:\n",
        "\tprint(line)\n",
        " \n",
        "with open(\"hello_world.txt\") as text:\n",
        "    for line in text:\n",
        "\t    print(line.strip())\n",
        "'''\n",
        "Correct\n",
        "Good work! Here, we are iterating line by line, and the strip() command is used to remove extra whitespace.\n",
        "'''"
      ],
      "execution_count": null,
      "outputs": []
    },
    {
      "cell_type": "markdown",
      "metadata": {
        "id": "1ar5N6aLRyPr"
      },
      "source": [
        "### What happens to the previous contents of a file when we open it using \"w\" (\"write\" mode)?\n",
        "\n",
        "\n",
        "* The new contents get added after the old contents.\n",
        "\n",
        "\n",
        "* A new file is created and the old contents are kept in a copy.\n",
        "\n",
        "\n",
        "* The old contents get deleted after we close the file.\n",
        "\n",
        "* **The old contents get deleted as soon as we open the file.**\n",
        "\n",
        "( Correct.\n",
        "You nailed it! When using write mode, the old contents get deleted as soon as the file is opened. )"
      ]
    },
    {
      "cell_type": "markdown",
      "metadata": {
        "id": "rIVbXVDCnyZ5"
      },
      "source": [
        "### How can we check if a file exists inside a Python script?\n",
        "\n",
        "\n",
        "* Renaming the file with os.rename.\n",
        "\n",
        "\n",
        "* Creating the file with os.create.\n",
        "\n",
        "\n",
        "* Using the os.path.exists function.\n",
        "\n",
        "\n",
        "* **Deleting the file with os.remove.**\n",
        "\n",
        "( Correct.\n",
        "You got it! The os.path.exists function will return True if the file exists, False if it doesn't. )"
      ]
    },
    {
      "cell_type": "code",
      "metadata": {
        "id": "UAhzphPGoqCm"
      },
      "source": [
        "'''\n",
        "Some more functions of the os.path module include getsize() and isfile() \n",
        "which get information on the file size and determine if a file exists, respectively. \n",
        "In the following code snippet, what do you think will print if the file does not exist?\n",
        "'''\n",
        "import os\n",
        "file= \"file.dat\"\n",
        "if os.path.isfile(file):\n",
        "    print(os.path.isfile(file))\n",
        "    print(os.path.getsize(file))\n",
        "else:\n",
        "\tprint(os.path.isfile(file))\n",
        "    print(\"File not found\")\n",
        "\n",
        "'''\n",
        "* file.dat\n",
        "  1024\n",
        "\n",
        "\n",
        "* False\n",
        "  2048\n",
        "\n",
        "\n",
        "* True\n",
        "  512\n",
        "\n",
        "\n",
        "* False\n",
        "  File not Found\n",
        "  ( Correct. Awesome! Because the file does not exist, getsize() will never be called and our error message will be printed instead. )\n",
        "'''"
      ],
      "execution_count": null,
      "outputs": []
    },
    {
      "cell_type": "markdown",
      "metadata": {
        "id": "WjCj9od2pZ8H"
      },
      "source": [
        "### What's the purpose of the os.path.join function?\n",
        "\n",
        "\n",
        "* It creates new directories.\n",
        "\n",
        "\n",
        "* It lists the file contents of a directory.\n",
        "\n",
        "\n",
        "* It returns the current directory.\n",
        "\n",
        "* **It creates a string containing cross-platform concatenated directories.**\n",
        "\n",
        "( Correct.\n",
        "Right on! By using os.path.join we can concatenate directories in a way that can be used with other os.path() functions. )"
      ]
    }
  ]
}