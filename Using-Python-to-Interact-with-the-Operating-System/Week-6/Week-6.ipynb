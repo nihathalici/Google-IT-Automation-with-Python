{
  "nbformat": 4,
  "nbformat_minor": 0,
  "metadata": {
    "colab": {
      "name": "Untitled1.ipynb",
      "provenance": [],
      "collapsed_sections": []
    },
    "kernelspec": {
      "name": "python3",
      "display_name": "Python 3"
    }
  },
  "cells": [
    {
      "cell_type": "markdown",
      "metadata": {
        "id": "U1UPI9Nu4XiA"
      },
      "source": [
        "# Week-6"
      ]
    },
    {
      "cell_type": "markdown",
      "metadata": {
        "id": "1dwYILLAqNPq"
      },
      "source": [
        "### Which of the following Linux commands will create an empty file?\n",
        "\n",
        "* pwd\n",
        "\n",
        "* mkdir\n",
        "\n",
        "* cd\n",
        "\n",
        "* **touch**\n",
        "\n",
        "( Correct.\n",
        "Right on! The touch command will create an empty file. )"
      ]
    },
    {
      "cell_type": "markdown",
      "metadata": {
        "id": "YDeu_KEUWVNU"
      },
      "source": [
        "### How do you append the output of a command to a .txt file?\n",
        "\n",
        "\n",
        "* user@ubuntu:~$ ./calculator.py > result.txt\n",
        "\n",
        "* user@ubuntu:~$ ./calculator.py < result.txt\n",
        "\n",
        "* user@ubuntu:~$ print(\"This will append\")\n",
        "\n",
        "* **user@ubuntu:~$ ./calculator.py >> result.txt**\n",
        "\n",
        "( Correct.\n",
        "Great work! A double greater than sign will append a command output to a file. )"
      ]
    },
    {
      "cell_type": "markdown",
      "metadata": {
        "id": "vTwRPqcBqgoL"
      },
      "source": [
        "### Which of the following is the correct way of using pipes?\n",
        "\n",
        "\n",
        "* user@ubuntu:~$ cat sample.txt ./process.py\n",
        "\n",
        "\n",
        "* user@ubuntu:~$ cat sample.txt || ./process.py\n",
        "\n",
        "\n",
        "* user@ubuntu:~$ tr ' ' '\\n' | sort | cat sample.txt\n",
        "\n",
        "\n",
        "* **user@ubuntu:~$ cat sample.txt | tr ' ' '\\n' | sort**\n",
        "\n",
        "( Correct.\n",
        "Woohoo! The contents of the txt file are passed on to be placed in their own line and sorted in alphabetical order on the display. )"
      ]
    },
    {
      "cell_type": "markdown",
      "metadata": {
        "id": "h0qo68oPCh6d"
      },
      "source": [
        "### What can you type in the terminal to stop the traceroute command from running cleanly?\n",
        "\n",
        "* SIGINT\n",
        "\n",
        "\n",
        "* Ctrl-Z\n",
        "\n",
        "\n",
        "* SIGSTOP\n",
        "\n",
        "* **Ctrl-C**\n",
        "( Correct.\n",
        "Right on! This sends a SIGINT signal to the program to stop processing cleanly. )"
      ]
    },
    {
      "cell_type": "markdown",
      "metadata": {
        "id": "CaY2Z_jM2HhY"
      },
      "source": [
        "### Which command will correctly run a bash script?\n",
        "\n",
        "\n",
        "* user@ubuntu:~$ #!/bin/bash\n",
        "\n",
        "\n",
        "* user@ubuntu:~$ ./bash.py \n",
        "\n",
        "* user@ubuntu:~$ ./sh.bash\n",
        "\n",
        "* **user@ubuntu:~$ ./bash_sample.sh**\n",
        "\n",
        "( Correct.\n",
        "Right on! A bash script is run with the .sh file extension. )"
      ]
    },
    {
      "cell_type": "markdown",
      "metadata": {
        "id": "UmqYrszXBe4F"
      },
      "source": [
        "### When defining a variable you receive the \"command not found\" message. Which of the following commands will resolve this error?\n",
        "\n",
        "\n",
        "* User1= billy\n",
        "\n",
        "\n",
        "* $User2 =billy\n",
        "\n",
        "\n",
        "* User3 = $billy\n",
        "\n",
        "\n",
        "* **User4=billy**\n",
        "\n",
        "( Correct.\n",
        "Great work! The variable \"User4\" has a value of \"billy\". )"
      ]
    },
    {
      "cell_type": "markdown",
      "metadata": {
        "id": "bi3SM-sOQaKW"
      },
      "source": [
        "### A conditional block in Bash that starts with 'if', ends with which of the following lines?\n",
        "\n",
        "* if\n",
        "\n",
        "\n",
        "* else\n",
        "\n",
        "\n",
        "* grep\n",
        "\n",
        "* **fi**\n",
        "\n",
        "( Correct.\n",
        "Right on! The if conditional ends with fi (a backwards \"if\"). )"
      ]
    },
    {
      "cell_type": "markdown",
      "metadata": {
        "id": "r_EK-hX8LDbB"
      },
      "source": [
        "### Which “for” conditional line will add users Paul and Jeremy to a user variable?\n",
        "\n",
        "\n",
        "* for users in Paul Jeremy\n",
        "\n",
        "* for Paul Jeremy in user\n",
        "\n",
        "* for Paul & Jeremy in user\n",
        "\n",
        "* **for user in Paul Jeremy**\n",
        "\n",
        "( Correct.\n",
        "Nice job! The elements Paul and Jeremy are added to the user variable. )"
      ]
    },
    {
      "cell_type": "markdown",
      "metadata": {
        "id": "EEjlGtLLTVzK"
      },
      "source": [
        "### When using the following command, what would each line of the output start with? \n",
        "\n",
        "**user@ubuntu:~$ tail /var/log/syslog | cut -d' ' -f3-**\n",
        "\n",
        "\n",
        "* CRON[257236]:\n",
        "\n",
        "\n",
        "* October\n",
        "\n",
        "\n",
        "* 31\n",
        "\n",
        "\n",
        "* **10:18:41**\n",
        "\n",
        "( Correct.\n",
        "Woohoo! The time of the log will be shown with the -f3- or field three option of the cut command. )"
      ]
    },
    {
      "cell_type": "markdown",
      "metadata": {
        "id": "KIiRckc08Aaz"
      },
      "source": [
        "### Which of the following statements would make it better to start using Python instead of Bash?\n",
        "\n",
        "\n",
        "* Operate with system commands.\n",
        "\n",
        "* Operate with system files.\n",
        "\n",
        "* Run a single process on multiple files.\n",
        "\n",
        "* Use on multi-platforms.\n",
        "\n",
        "\n",
        "( Correct.\n",
        "Right on! It is better to use Python and its standard library to use when working across multiple platforms. )"
      ]
    }
  ]
}