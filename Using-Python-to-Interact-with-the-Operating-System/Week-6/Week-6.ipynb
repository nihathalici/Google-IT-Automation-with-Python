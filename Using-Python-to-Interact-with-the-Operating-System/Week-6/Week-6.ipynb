{
  "nbformat": 4,
  "nbformat_minor": 0,
  "metadata": {
    "colab": {
      "name": "Untitled1.ipynb",
      "provenance": [],
      "collapsed_sections": []
    },
    "kernelspec": {
      "name": "python3",
      "display_name": "Python 3"
    }
  },
  "cells": [
    {
      "cell_type": "markdown",
      "metadata": {
        "id": "U1UPI9Nu4XiA"
      },
      "source": [
        "# Week-6"
      ]
    },
    {
      "cell_type": "markdown",
      "metadata": {
        "id": "1dwYILLAqNPq"
      },
      "source": [
        "### Which of the following Linux commands will create an empty file?\n",
        "\n",
        "* pwd\n",
        "\n",
        "* mkdir\n",
        "\n",
        "* cd\n",
        "\n",
        "* **touch**\n",
        "\n",
        "( Correct.\n",
        "Right on! The touch command will create an empty file. )"
      ]
    },
    {
      "cell_type": "markdown",
      "metadata": {
        "id": "YDeu_KEUWVNU"
      },
      "source": [
        "### How do you append the output of a command to a .txt file?\n",
        "\n",
        "\n",
        "* user@ubuntu:~$ ./calculator.py > result.txt\n",
        "\n",
        "* user@ubuntu:~$ ./calculator.py < result.txt\n",
        "\n",
        "* user@ubuntu:~$ print(\"This will append\")\n",
        "\n",
        "* **user@ubuntu:~$ ./calculator.py >> result.txt**\n",
        "\n",
        "( Correct.\n",
        "Great work! A double greater than sign will append a command output to a file. )"
      ]
    }
  ]
}