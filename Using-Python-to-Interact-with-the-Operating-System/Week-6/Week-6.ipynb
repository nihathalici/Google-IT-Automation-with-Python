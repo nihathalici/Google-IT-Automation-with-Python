{
  "nbformat": 4,
  "nbformat_minor": 0,
  "metadata": {
    "colab": {
      "name": "Untitled1.ipynb",
      "provenance": [],
      "collapsed_sections": []
    },
    "kernelspec": {
      "name": "python3",
      "display_name": "Python 3"
    }
  },
  "cells": [
    {
      "cell_type": "markdown",
      "metadata": {
        "id": "U1UPI9Nu4XiA"
      },
      "source": [
        "# Week-6"
      ]
    },
    {
      "cell_type": "markdown",
      "metadata": {
        "id": "1dwYILLAqNPq"
      },
      "source": [
        "### Which of the following Linux commands will create an empty file?\n",
        "\n",
        "* pwd\n",
        "\n",
        "* mkdir\n",
        "\n",
        "* cd\n",
        "\n",
        "* **touch**\n",
        "\n",
        "( Correct.\n",
        "Right on! The touch command will create an empty file. )"
      ]
    }
  ]
}