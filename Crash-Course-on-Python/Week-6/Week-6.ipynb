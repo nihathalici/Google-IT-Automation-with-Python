{
  "nbformat": 4,
  "nbformat_minor": 0,
  "metadata": {
    "colab": {
      "name": "Untitled1.ipynb",
      "provenance": [],
      "collapsed_sections": []
    },
    "kernelspec": {
      "name": "python3",
      "display_name": "Python 3"
    }
  },
  "cells": [
    {
      "cell_type": "markdown",
      "metadata": {
        "id": "U1UPI9Nu4XiA"
      },
      "source": [
        "# Week-6"
      ]
    },
    {
      "cell_type": "markdown",
      "metadata": {
        "id": "67m6MEzeIPj4"
      },
      "source": [
        "### Restate the problem statement from the video example.\n",
        "\n",
        "\n",
        "* Each login event is an instance of the Event class.\n",
        "\n",
        "\n",
        "* The attributes of the Event class are date, user, machine, and type.\n",
        "\n",
        "\n",
        "* The company manager wants to know which users are currently connected to which machines.\n",
        "\n",
        "\n",
        "* **We need to process a list of Event objects using their attributes to generate a report that lists all users currently logged in to the machines.**\n",
        "( Correct.\n",
        "Right on! This problem statement defines the problem in specific terms and provides a direction and goal.)"
      ]
    },
    {
      "cell_type": "markdown",
      "metadata": {
        "id": "8Fv-nbgLIuGF"
      },
      "source": [
        "### There are two standard methods to sort a list in Python, sort and sorted. What is the difference between these two methods?\n",
        "\n",
        "\n",
        "* sort returns a new list, while sorted returns the same list reorganized.\n",
        "\n",
        "\n",
        "* sort lists alphabetically, while sorted lists by word length.\n",
        "\n",
        "\n",
        "* **sorted returns a new list, while sort returns the same list reorganized.**\n",
        "( Correct. \n",
        "Awesome! So you were paying attention. Knowing the difference between these two methods is not nearly as important as the ability to research the tools we have available to us."
      ]
    },
    {
      "cell_type": "markdown",
      "metadata": {
        "id": "E0ksvDR1JHuR"
      },
      "source": [
        "### Having a plan is half the battle. When planning out your program, why is it often a good idea to separate functions?\n",
        "\n",
        "\n",
        "* It simplifies making changes and fixing bugs.\n",
        "\n",
        "\n",
        "* It allows us to use the same function for multiple purposes.\n",
        "\n",
        "\n",
        "* It makes list sorting easier.\n",
        "\n",
        "\n",
        "* **Both A and B.**\n",
        "( Correct.\n",
        "Great work! Separating functions is helpful when debugging or making other changes, as it keeps functions from getting ‘tangled’. It also makes it easier to adapt functions for other uses. )"
      ]
    },
    {
      "cell_type": "code",
      "metadata": {
        "id": "dx0oz3sJJ_k3"
      },
      "source": [
        "# It’s important to know why we’ve written a function. \n",
        "# In the example used in the video (shown here), what is the purpose of “if len(users) > 0:” ?\n",
        "\n",
        "\n",
        "def generate_report(machines):\n",
        "  for machine, users in machines.items():\n",
        "    if len(users) > 0:\n",
        "      user_list = \", \".join(users)\n",
        "      print(\"{}: {}\".format(machine, user_list))\n",
        "\n",
        "'''\n",
        "* Ensure that we don't print any machines where nobody is currently logged in\n",
        "(Correct. Awesome! Generating the string underneath this check prevents lists with zero users from being printed.)\n",
        "\n",
        "* Generates a string of logged-in users for a given machine\n",
        "\n",
        "* Sorts the list of users\n",
        "\n",
        "* Iterate over the keys and values in the dictionary"
      ],
      "execution_count": null,
      "outputs": []
    },
    {
      "cell_type": "markdown",
      "metadata": {
        "id": "cl0tA-4qKbLZ"
      },
      "source": [
        "### Which line from the program we just wrote combines each logged-in user attribute into one variable?\n",
        "\n",
        "\n",
        "* events.sort(key=get_event_date)\n",
        "\n",
        "\n",
        "* self.user = user\n",
        "\n",
        "\n",
        "* **user_list = \", \".join(users)**\n",
        "( Correct. Nice job! The join() function of str gathers the user attributes (which is a string) into a single string, with commas separating the users. )\n",
        "\n",
        "\n",
        "* machines[event.machine].add(event.user)"
      ]
    }
  ]
}