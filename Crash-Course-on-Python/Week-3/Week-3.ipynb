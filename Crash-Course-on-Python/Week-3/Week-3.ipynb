{
  "nbformat": 4,
  "nbformat_minor": 0,
  "metadata": {
    "colab": {
      "name": "Untitled1.ipynb",
      "provenance": [],
      "collapsed_sections": []
    },
    "kernelspec": {
      "name": "python3",
      "display_name": "Python 3"
    }
  },
  "cells": [
    {
      "cell_type": "markdown",
      "metadata": {
        "id": "U1UPI9Nu4XiA"
      },
      "source": [
        "# Week-3"
      ]
    },
    {
      "cell_type": "code",
      "metadata": {
        "id": "CUF9xDlBNkrC",
        "colab": {
          "base_uri": "https://localhost:8080/"
        },
        "outputId": "2e01a84f-1af6-4d23-98a9-1001ca2eef52"
      },
      "source": [
        "# How many times will \"Not there yet\" be printed?\n",
        "x = 0\n",
        "while x < 5:\n",
        "  print(\"Not there yet, x=\" + str(x))\n",
        "  x = x + 1\n",
        "print(\"x=\" + str(x))"
      ],
      "execution_count": 1,
      "outputs": [
        {
          "output_type": "stream",
          "text": [
            "Not there yet, x=0\n",
            "Not there yet, x=1\n",
            "Not there yet, x=2\n",
            "Not there yet, x=3\n",
            "Not there yet, x=4\n",
            "x=5\n"
          ],
          "name": "stdout"
        }
      ]
    },
    {
      "cell_type": "code",
      "metadata": {
        "id": "Ytv3pY7G3dCs"
      },
      "source": [
        "# Can you work out what this function does? Try passing different parameters to the attempts function to see what it does. \n",
        "def attempts(n):\n",
        "    x = 1\n",
        "    while x <= n:\n",
        "        print(\"Attempt \" + str(x))\n",
        "        x += 1\n",
        "    print(\"Done\")\n",
        "    \n",
        "attempts(1)"
      ],
      "execution_count": null,
      "outputs": []
    },
    {
      "cell_type": "code",
      "metadata": {
        "id": "NnvcIHHX3tnt"
      },
      "source": [
        "# In this code, there's an initialization problem that's causing our function to behave incorrectly. \n",
        "# Can you find the problem and fix it?\n",
        "def count_down(start_number):\n",
        "  current = start_number\n",
        "  while (current > 0):\n",
        "    print(current)\n",
        "    current -= 1\n",
        "  print(\"Zero!\")\n",
        "\n",
        "count_down(3)"
      ],
      "execution_count": null,
      "outputs": []
    },
    {
      "cell_type": "code",
      "metadata": {
        "id": "EJi1TrG63z3P"
      },
      "source": [
        "# The following code causes an infinite loop. Can you figure out what’s missing and how to fix it?\n",
        "def print_range(start, end):\n",
        "\t# Loop through the numbers from start to end\n",
        "\tn = start\n",
        "\twhile n <= end:\n",
        "\t\tprint(n)\n",
        "\t\tn += 1\n",
        "\n",
        "print_range(1, 5)  # Should print 1 2 3 4 5 (each number on its own line) "
      ],
      "execution_count": null,
      "outputs": []
    },
    {
      "cell_type": "code",
      "metadata": {
        "id": "T8CtPieE4R78"
      },
      "source": [
        "'''\n",
        "Fill in the gaps of the sum_squares function, so that it returns the sum of all the squares of numbers between 0 and x (not included). \n",
        "Remember that you can use the range(x) function to generate a sequence of numbers from 0 to x (not included).\n",
        "'''\n",
        "def square(n):\n",
        "    return n*n\n",
        "\n",
        "def sum_squares(x):\n",
        "    sum = 0\n",
        "    for n in range(1,x):\n",
        "        sum += square(n)\n",
        "    return sum\n",
        "\n",
        "print(sum_squares(10)) # Should be 285"
      ],
      "execution_count": null,
      "outputs": []
    },
    {
      "cell_type": "code",
      "metadata": {
        "id": "mvHo_gdQ4lli"
      },
      "source": [
        "'''\n",
        "In math, the factorial of a number is defined as the product of an integer and all the integers below it. \n",
        "For example, the factorial of four (4!) is equal to 1*2*3*4=24. \n",
        "Fill in the blanks to make the factorial function return the right number.\n",
        "'''\n",
        "def factorial(n):\n",
        "    result = 1\n",
        "    for x in range(1, n+1):\n",
        "        result = result * x\n",
        "    return result\n",
        "\n",
        "print(factorial(4)) # should return 24\n",
        "print(factorial(5)) # should return 120"
      ],
      "execution_count": null,
      "outputs": []
    },
    {
      "cell_type": "code",
      "metadata": {
        "id": "88POQPoX4wcg"
      },
      "source": [
        "# Given the following code:\n",
        "teams = [ 'Dragons', 'Wolves', 'Pandas', 'Unicorns']\n",
        "for home_team in teams:\n",
        "    for away_team in teams:\n",
        "\n",
        "'''\n",
        "What should the next line be to avoid both variables being printed with the same value?\n",
        "\n",
        "while home_team != away_team:\n",
        "for home_team == away_team:\n",
        "away_team = home_team\n",
        "if home_team != away_team: (Correct)\n",
        "'''"
      ],
      "execution_count": null,
      "outputs": []
    },
    {
      "cell_type": "code",
      "metadata": {
        "id": "KTOHVC0E5rM5"
      },
      "source": [
        "'''\n",
        "The validate_users function is used by the system to check if a list of users is valid or invalid. \n",
        "A valid user is one that is at least 3 characters long. For example, ['taylor', 'luisa', 'jamaal'] are all valid users. \n",
        "When calling it like in this example, something is not right. Can you figure out what to fix?\n",
        "'''\n",
        "def validate_users(users):\n",
        "  for user in users:\n",
        "    if is_valid(user):\n",
        "      print(user + \" is valid\")\n",
        "    else:\n",
        "      print(user + \" is invalid\")\n",
        "\n",
        "validate_users(['purplecat'])"
      ],
      "execution_count": null,
      "outputs": []
    },
    {
      "cell_type": "code",
      "metadata": {
        "id": "LRmvuNiF6BQI"
      },
      "source": [
        "'''\n",
        "The function sum_positive_numbers should return the sum of all positive numbers between the number n received and 1. \n",
        "For example, when n is 3 it should return 1+2+3=6, and when n is 5 it should return 1+2+3+4+5=15. \n",
        "Fill in the gaps to make this work:\n",
        "'''\n",
        "def sum_positive_numbers(n):\n",
        "    # The base case is n being smaller than 1\n",
        "    if n < 1:\n",
        "        return n\n",
        "\n",
        "    # The recursive case is adding this number to \n",
        "    # the sum of the numbers smaller than this one.\n",
        "    return n + sum_positive_numbers(n-1)\n",
        "\n",
        "print(sum_positive_numbers(3)) # Should be 6\n",
        "print(sum_positive_numbers(5)) # Should be 15"
      ],
      "execution_count": null,
      "outputs": []
    },
    {
      "cell_type": "markdown",
      "metadata": {
        "id": "3CVpS4FZ7MIE"
      },
      "source": [
        "### Which of the following scenarios would benefit the most from using a recursive function to solve the problem?\n",
        "\n",
        "\n",
        "* You need to print out a list of the employees in your company.\n",
        "* You need to know how many files are present in a single directory of your computer.\n",
        "* **You need to create a family tree, showing several generations of your ancestors, with all of their children. (Correct)**\n",
        "* You need to calculate the square root of numbers 1 through 10."
      ]
    }
  ]
}