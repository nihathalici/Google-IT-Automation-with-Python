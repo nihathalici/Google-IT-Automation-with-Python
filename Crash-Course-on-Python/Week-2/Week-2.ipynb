{
  "nbformat": 4,
  "nbformat_minor": 0,
  "metadata": {
    "colab": {
      "name": "Untitled1.ipynb",
      "provenance": [],
      "collapsed_sections": []
    },
    "kernelspec": {
      "name": "python3",
      "display_name": "Python 3"
    }
  },
  "cells": [
    {
      "cell_type": "markdown",
      "metadata": {
        "id": "U1UPI9Nu4XiA"
      },
      "source": [
        "# Week-2"
      ]
    },
    {
      "cell_type": "markdown",
      "metadata": {
        "id": "FIkmZ1B6LfB0"
      },
      "source": [
        "In this module you’ll learn about different data types in Python, how to identify them, and how to convert between them. You’ll also learn how to use variables to assign data and to reference variables. You’ll deep dive into functions: how to define them, pass them parameters, and have them return information. You’ll explore the concepts of code reuse, code style, and refactoring complex code, along with effectively using code comments. Finally, you’ll learn about comparing data using equality and logical operators, and leveraging these to build complex branching scripts using if statements."
      ]
    },
    {
      "cell_type": "code",
      "metadata": {
        "id": "biSiOb4tLvZ4"
      },
      "source": [
        "# Why does this code raise an error:\n",
        "print(\"1234\"+5678)\n",
        "\n",
        "'''\n",
        "Because Python doesn't know how to add a number to a string.\n",
        "Correct\n",
        "Right on! Python can add a number to a number or a string to a string, but it doesn't know how to add a number to a string.\n",
        "\n",
        "Because in Python it's only possible to add numbers, not strings.\n",
        "Because in Python it's not possible to print integers.\n",
        "Because numbers shouldn't be written between quotes.\n",
        "'''\n"
      ],
      "execution_count": null,
      "outputs": []
    },
    {
      "cell_type": "code",
      "metadata": {
        "id": "km8DsqTdMW8U"
      },
      "source": [
        "# Fill in the blanks to calculate the area of a triangle of base 5, height 3 and output the result.  Reminder:  the area of a triangle is (base*height)/2.\n",
        "\n",
        "base = 5\n",
        "height = 3\n",
        "area = (base*height)/2\n",
        "\n",
        "print(area)"
      ],
      "execution_count": null,
      "outputs": []
    },
    {
      "cell_type": "code",
      "metadata": {
        "id": "i2PwZ2UtMsJQ"
      },
      "source": [
        "'''\n",
        "In this scenario, we have a directory with 5 files in it. Each file has a different size: 2048, 4357, 97658, 125, and 8. \n",
        "Fill in the blanks to calculate the average file size by having Python add all the values for you, and then set the files \n",
        "variable to the number of files. Finally, output a message saying \n",
        "\"The average size is: \" followed by the resulting number. \n",
        "Remember to use the str() function to convert the number into a string. \n",
        "'''\n",
        "total = 2048 + 4357 + 97658 + 125 + 8\n",
        "files = 5\n",
        "average = total / files\n",
        "print(\"The average size is:\" + str(average))"
      ],
      "execution_count": null,
      "outputs": []
    },
    {
      "cell_type": "code",
      "metadata": {
        "id": "gC_KtXBiNMow"
      },
      "source": [
        "'''\n",
        "Flesh out the body of the print_seconds function so that it prints the total amount of seconds given the hours, minutes, and seconds \n",
        "function parameters. \n",
        "Remember that there are 3600 seconds in an hour and 60 seconds in a minute.\n",
        "'''\n",
        "def print_seconds(hours, minutes, seconds):\n",
        "    print((3600*hours)+(60*minutes)+seconds)\n",
        "\n",
        "print_seconds(1,2,3)"
      ],
      "execution_count": null,
      "outputs": []
    },
    {
      "cell_type": "code",
      "metadata": {
        "id": "L6ZHPsMdNjD1"
      },
      "source": [
        "'''\n",
        "Use the get_seconds function to work out the amount of seconds in 2 hours and 30 minutes, then add this number to the amount \n",
        "of seconds in 45 minutes and 15 seconds. Then print the result.\n",
        "'''\n",
        "def get_seconds(hours, minutes, seconds):\n",
        "  return 3600*hours + 60*minutes + seconds\n",
        "\n",
        "amount_a = get_seconds(2,30,0)\n",
        "amount_b = get_seconds(0,45,15)\n",
        "result = amount_a + amount_b\n",
        "print(result)"
      ],
      "execution_count": null,
      "outputs": []
    },
    {
      "cell_type": "code",
      "metadata": {
        "id": "tH0WjMmWN8U2"
      },
      "source": [
        "'''\n",
        "In this code, identify the repeated pattern and replace it with a function called month_days, that receives the name \n",
        "of the month and the number of days in that month as parameters. Adapt the rest of the code so that the result is the same. \n",
        "Confirm your results by making a function call with the correct parameters for both months listed.\n",
        "'''\n",
        "def month_days(month, days):\n",
        "    print(month + \" has \" + str(days) + \" days.\")\n",
        "\n",
        "month_days(\"June\", 30)\n",
        "month_days(\"July\", 31)"
      ],
      "execution_count": null,
      "outputs": []
    },
    {
      "cell_type": "code",
      "metadata": {
        "id": "cS53JBLeOcgt"
      },
      "source": [
        "'''\n",
        "This function to calculate the area of a rectangle is not very readable. Can you refactor it, and then call the function \n",
        "to calculate the area with base of 5 and height of 6?\n",
        "Tip: a function that calculates the area of a rectangle should probably be called rectangle_area, \n",
        "and if it's receiving base and height, that's what the parameters should be called.\n",
        "'''\n",
        "def rectangle_area(base, height):\n",
        "\tarea = base*height  # the area is base*height\n",
        "\tprint(\"The area is \" + str(area))\n",
        "\n",
        "rectangle_area(5, 6)"
      ],
      "execution_count": null,
      "outputs": []
    },
    {
      "cell_type": "code",
      "metadata": {
        "id": "CN6QeZ1zQXug"
      },
      "source": [
        "'''\n",
        "Figure out what's the relationship between the strings \"cat\" and \"Cat\" by replacing the plus sign with comparison operators.\n",
        "'''\n",
        "print(\"cat\" > \"Cat\")\n",
        "'''\n",
        "\"cat\" equals \"Cat\"\n",
        "\"cat\" is smaller than \"Cat\"\n",
        "\n",
        "\n",
        "\"cat\" is larger than \"Cat\"\n",
        "Correct\n",
        "You nailed it! In Python uppercase letters are alphabetically sorted before lowercase letters.\n",
        "'''"
      ],
      "execution_count": null,
      "outputs": []
    },
    {
      "cell_type": "code",
      "metadata": {
        "id": "h7Od3YR-Q03I"
      },
      "source": [
        "'''\n",
        "The is_positive function should return True if the number received is positive, \n",
        "otherwise it returns None. Can you fill in the gaps to make that happen?\n",
        "'''\n",
        "def is_positive(number):\n",
        "  if number > 0:\n",
        "    return True"
      ],
      "execution_count": null,
      "outputs": []
    },
    {
      "cell_type": "code",
      "metadata": {
        "id": "MK4YlF4GRIXr"
      },
      "source": [
        "'''\n",
        "The is_positive function should return True if the number received is positive and False if it isn't. \n",
        "Can you fill in the gaps to make that happen?\n",
        "'''\n",
        "def is_positive(number):\n",
        "  if number > 0:\n",
        "    return True\n",
        "  else:\n",
        "    return False"
      ],
      "execution_count": null,
      "outputs": []
    },
    {
      "cell_type": "code",
      "metadata": {
        "id": "wyEYoAJFRYa1"
      },
      "source": [
        "'''\n",
        "The number_group function should return \"Positive\" if the number received is positive, \n",
        "\"Negative\" if it's negative, and \"Zero\" if it's 0. Can you fill in the gaps to make that happen?\n",
        "'''\n",
        "def number_group(number):\n",
        "  if number > 0:\n",
        "    return \"Positive\"\n",
        "  elif number < 0:\n",
        "    return \"Negative\"\n",
        "  else:\n",
        "    return \"Zero\"\n",
        "\n",
        "print(number_group(10)) #Should be Positive\n",
        "print(number_group(0)) #Should be Zero\n",
        "print(number_group(-5)) #Should be Negative"
      ],
      "execution_count": null,
      "outputs": []
    },
    {
      "cell_type": "code",
      "metadata": {
        "id": "CUF9xDlBNkrC"
      },
      "source": [
        ""
      ],
      "execution_count": null,
      "outputs": []
    }
  ]
}