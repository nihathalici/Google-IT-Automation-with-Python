{
  "nbformat": 4,
  "nbformat_minor": 0,
  "metadata": {
    "colab": {
      "name": "Week-4.ipynb",
      "provenance": [],
      "collapsed_sections": []
    },
    "kernelspec": {
      "name": "python3",
      "display_name": "Python 3"
    }
  },
  "cells": [
    {
      "cell_type": "markdown",
      "metadata": {
        "id": "U1UPI9Nu4XiA"
      },
      "source": [
        "# Week-4"
      ]
    },
    {
      "cell_type": "code",
      "metadata": {
        "id": "gnO2O1rL5qBx"
      },
      "source": [
        "'''\n",
        "Modify the double_word function so that it returns the same word repeated twice, followed by the length of the new doubled word. \n",
        "For example, double_word(\"hello\") should return hellohello10.\n",
        "'''\n",
        "def double_word(word):\n",
        "    new_word = word + word\n",
        "    ret_str = new_word + str(len(new_word))\n",
        "    return ret_str\n",
        "\n",
        "print(double_word(\"hello\")) # Should return hellohello10\n",
        "print(double_word(\"abc\"))   # Should return abcabc6\n",
        "print(double_word(\"\"))      # Should return 0"
      ],
      "execution_count": null,
      "outputs": []
    },
    {
      "cell_type": "code",
      "metadata": {
        "id": "ZtE2rxFa6bXZ"
      },
      "source": [
        "'''\n",
        "Modify the first_and_last function so that it returns True if the first letter of the string is the same as the last letter of the string, \n",
        "False if they’re different. Remember that you can access characters using message[0] or message[-1].\n",
        "Be careful how you handle the empty string, which should return True since nothing is equal to nothing.\n",
        "'''\n",
        "def first_and_last(message):\n",
        "    if len(message) == 0:\n",
        "        return True\n",
        "    elif message[0] == message[-1]:\n",
        "        return True\n",
        "    return False\n",
        "\n",
        "print(first_and_last(\"else\"))\n",
        "print(first_and_last(\"tree\"))\n",
        "print(first_and_last(\"\"))"
      ],
      "execution_count": null,
      "outputs": []
    },
    {
      "cell_type": "code",
      "metadata": {
        "id": "I32gduhY61dL"
      },
      "source": [
        "# Using the index method, find out the position of \"x\" in \"supercalifragilisticexpialidocious\".\n",
        "word = \"supercalifragilisticexpialidocious\"\n",
        "print(word.index('x'))"
      ],
      "execution_count": null,
      "outputs": []
    },
    {
      "cell_type": "code",
      "metadata": {
        "id": "yxHVW81g7Hgg"
      },
      "source": [
        "'''\n",
        "Fill in the gaps in the initials function so that it returns the initials of the words contained in the phrase received, in upper case. \n",
        "For example: \"Universal Serial Bus\" should return \"USB\"; \"local area network\" should return \"LAN”.\n",
        "'''\n",
        "def initials(phrase):\n",
        "    words = phrase.split()\n",
        "    result = \"\"\n",
        "    for word in words:\n",
        "        result += word[0].upper()\n",
        "    return result\n",
        "\n",
        "print(initials(\"Universal Serial Bus\")) # Should be: USB\n",
        "print(initials(\"local area network\")) # Should be: LAN\n",
        "print(initials(\"Operating system\")) # Should be: OS"
      ],
      "execution_count": null,
      "outputs": []
    },
    {
      "cell_type": "code",
      "metadata": {
        "id": "QcEeoWqF7e7h"
      },
      "source": [
        "'''\n",
        "Modify the student_grade function using the format method, so that it returns the phrase \"X received Y% on the exam\". \n",
        "For example, student_grade(\"Reed\", 80) should return \"Reed received 80% on the exam\".\n",
        "'''\n",
        "def student_grade(name, grade):\n",
        "\treturn \"{} received {}% on the exam\".format(name, grade)\n",
        "\n",
        "print(student_grade(\"Reed\", 80))\n",
        "print(student_grade(\"Paige\", 92))\n",
        "print(student_grade(\"Jesse\", 85))"
      ],
      "execution_count": null,
      "outputs": []
    },
    {
      "cell_type": "code",
      "metadata": {
        "id": "wGgtsPPo77Fl"
      },
      "source": [
        "'''\n",
        "Using the \"split\" string method from the preceding lesson, complete the get_word function to return the {n}th word \n",
        "from a passed sentence. For example, get_word(\"This is a lesson about lists\", 4) should return \"lesson\", \n",
        "which is the 4th word in this sentence. Hint: remember that list indexes start at 0, not 1. \n",
        "'''\n",
        "def get_word(sentence, n):\n",
        "\t# Only proceed if n is positive \n",
        "\tif n > 0:\n",
        "\t\twords = sentence.split()\n",
        "\t\t# Only proceed if n is not more than the number of words \n",
        "\t\tif n <= len(words):\n",
        "\t\t\treturn(words[n-1])\n",
        "\treturn(\"\")\n",
        "\n",
        "print(get_word(\"This is a lesson about lists\", 4)) # Should print: lesson\n",
        "print(get_word(\"This is a lesson about lists\", -4)) # Nothing\n",
        "print(get_word(\"Now we are cooking!\", 1)) # Should print: Now\n",
        "print(get_word(\"Now we are cooking!\", 5)) # Nothing"
      ],
      "execution_count": null,
      "outputs": []
    },
    {
      "cell_type": "code",
      "metadata": {
        "id": "LoNWcrXs8TV7"
      },
      "source": [
        "'''\n",
        "The skip_elements function returns a list containing every other element from an input list, starting with the first element. \n",
        "Complete this function to do that, using the for loop to iterate through the input list.\n",
        "'''\n",
        "def skip_elements(elements):\n",
        "\t# Initialize variables\n",
        "\tnew_list = []\n",
        "\ti = 0\n",
        "\n",
        "\t# Iterate through the list\n",
        "\tfor elem in elements:\n",
        "\t\t# Does this element belong in the resulting list?\n",
        "\t\tif i % 2 == 0:\n",
        "\t\t\t# Add this element to the resulting list\n",
        "\t\t\tnew_list.append(elements[i])\n",
        "\t\t# Increment i\n",
        "\t\ti += 1\n",
        "\n",
        "\treturn new_list\n",
        "\n",
        "print(skip_elements([\"a\", \"b\", \"c\", \"d\", \"e\", \"f\", \"g\"])) # Should be ['a', 'c', 'e', 'g']\n",
        "print(skip_elements(['Orange', 'Pineapple', 'Strawberry', 'Kiwi', 'Peach'])) # Should be ['Orange', 'Strawberry', 'Peach']\n",
        "print(skip_elements([])) # Should be []"
      ],
      "execution_count": null,
      "outputs": []
    },
    {
      "cell_type": "code",
      "metadata": {
        "id": "UekIHRlG8mMR"
      },
      "source": [
        "'''\n",
        "Let's use tuples to store information about a file: its name, its type and its size in bytes. \n",
        "Fill in the gaps in this code to return the size in kilobytes (a kilobyte is 1024 bytes) up to 2 decimal places. \n",
        "'''\n",
        "def file_size(file_info):\n",
        "\tname, type, size= file_info\n",
        "\treturn(\"{:.2f}\".format(size / 1024))\n",
        "\n",
        "print(file_size(('Class Assignment', 'docx', 17875))) # Should print 17.46\n",
        "print(file_size(('Notes', 'txt', 496))) # Should print 0.48\n",
        "print(file_size(('Program', 'py', 1239))) # Should print 1.21"
      ],
      "execution_count": null,
      "outputs": []
    },
    {
      "cell_type": "code",
      "metadata": {
        "id": "FxrLmkhs86q9"
      },
      "source": [
        "''''\n",
        "Complete the skip_elements function to return every other element from the list, this time \n",
        "using the enumerate function to check if an element is on an even position or an odd position.\n",
        "'''\n",
        "def skip_elements(elements):\n",
        "\t# code goes here\n",
        "\tnew_list = []\n",
        "\tfor index, elem in enumerate(elements):\n",
        "\t\tif index % 2 == 0:\n",
        "\t\t\tnew_list.append(elem) \n",
        "\treturn new_list\n",
        "\n",
        "print(skip_elements([\"a\", \"b\", \"c\", \"d\", \"e\", \"f\", \"g\"])) # Should be ['a', 'c', 'e', 'g']\n",
        "print(skip_elements(['Orange', 'Pineapple', 'Strawberry', 'Kiwi', 'Peach'])) # Should be ['Orange', 'Strawberry', 'Peach']"
      ],
      "execution_count": null,
      "outputs": []
    },
    {
      "cell_type": "code",
      "metadata": {
        "id": "npNYZPdF9S5p"
      },
      "source": [
        "'''\n",
        "The odd_numbers function returns a list of odd numbers between 1 and n, inclusively. \n",
        "Fill in the blanks in the function, using list comprehension. \n",
        "Hint: remember that list and range counters start at 0 and end at the limit minus 1.\n",
        "'''\n",
        "def odd_numbers(n):\n",
        "\treturn [x for x in range(1, n+1) if x % 2 == 1]\n",
        "\n",
        "print(odd_numbers(5))  # Should print [1, 3, 5]\n",
        "print(odd_numbers(10)) # Should print [1, 3, 5, 7, 9]\n",
        "print(odd_numbers(11)) # Should print [1, 3, 5, 7, 9, 11]\n",
        "print(odd_numbers(1))  # Should print [1]\n",
        "print(odd_numbers(-1)) # Should print []"
      ],
      "execution_count": null,
      "outputs": []
    },
    {
      "cell_type": "code",
      "metadata": {
        "id": "doKqIOFj9niQ"
      },
      "source": [
        "'''\n",
        "The \"toc\" dictionary represents the table of contents for a book. Fill in the blanks to do the following: \t\n",
        "1) Add an entry for Epilogue on page 39. \t\n",
        "2) Change the page number for Chapter 3 to 24. \t\n",
        "3) Display the new dictionary contents. \t\n",
        "4) Display True if there is Chapter 5, False if there isn't.\n",
        "'''\n",
        "toc = {\"Introduction\":1, \"Chapter 1\":4, \"Chapter 2\":11, \"Chapter 3\":25, \"Chapter 4\":30}\n",
        "toc[\"Epilogue\"] = 39 # Epilogue starts on page 39\n",
        "toc[\"Chapter 3\"] = 24 # Chapter 3 now starts on page 24\n",
        "print(toc) # What are the current contents of the dictionary?\n",
        "print(\"Chapter 5\" in toc) # Is there a Chapter 5?"
      ],
      "execution_count": null,
      "outputs": []
    },
    {
      "cell_type": "code",
      "metadata": {
        "id": "9nSSISN59_Sj"
      },
      "source": [
        "'''\n",
        "Complete the code to iterate through the keys and values of the cool_beasts dictionary. \n",
        "Remember that the items method returns a tuple of key, value for each element in the dictionary.\n",
        "'''\n",
        "cool_beasts = {\"octopuses\":\"tentacles\", \"dolphins\":\"fins\", \"rhinos\":\"horns\"}\n",
        "for k, v in cool_beasts.items():\n",
        "    print(\"{} have {}\".format(k, v))"
      ],
      "execution_count": null,
      "outputs": []
    },
    {
      "cell_type": "code",
      "metadata": {
        "id": "BZbuYtlV-Pb-"
      },
      "source": [
        "'''\n",
        "In Python, a dictionary can only hold a single value for a given key. To workaround this, our single value \n",
        "can be a list containing multiple values. Here we have a dictionary called \"wardrobe\" with items of clothing \n",
        "and their colors. Fill in the blanks to print a line for each item of clothing with each color, \n",
        "for example: \"red shirt\", \"blue shirt\", and so on.\n",
        "'''\n",
        "wardrobe = {\"shirt\":[\"red\",\"blue\",\"white\"], \"jeans\":[\"blue\",\"black\"]}\n",
        "for k, v in wardrobe.items():\n",
        "\tfor item in v:\n",
        "\t\tprint(\"{} {}\".format(item, k))"
      ],
      "execution_count": null,
      "outputs": []
    }
  ]
}
