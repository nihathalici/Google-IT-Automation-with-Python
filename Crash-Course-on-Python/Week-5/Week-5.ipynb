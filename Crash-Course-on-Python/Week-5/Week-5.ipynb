{
  "nbformat": 4,
  "nbformat_minor": 0,
  "metadata": {
    "colab": {
      "name": "Untitled1.ipynb",
      "provenance": [],
      "collapsed_sections": []
    },
    "kernelspec": {
      "name": "python3",
      "display_name": "Python 3"
    }
  },
  "cells": [
    {
      "cell_type": "markdown",
      "metadata": {
        "id": "U1UPI9Nu4XiA"
      },
      "source": [
        "# Week-5"
      ]
    },
    {
      "cell_type": "markdown",
      "metadata": {
        "id": "Ddh0_FK66urv"
      },
      "source": [
        "### Attributes are characteristics associated with a type. Methods are:\n",
        "\n",
        "\n",
        "- Lists associated with a type\n",
        "- Instances of a class\n",
        "- Characteristics associated with a type\n",
        "- **Functions associated with a type**\n",
        "(Correct. Right on! Remember, a method defines what you do with an object.)"
      ]
    },
    {
      "cell_type": "markdown",
      "metadata": {
        "id": "gB9-Vcer7mWG"
      },
      "source": [
        "### You want to find more information about the integer (int) class. What’s the best way to do this?\n",
        "\n",
        "- Use the command type(int)\n",
        "\n",
        "\n",
        "- Type ‘q’\n",
        "\n",
        "\n",
        "- Use the len() function\n",
        "- **Use the command help(int)**\n",
        "(Correct. Nailed it! Using the help command can be useful for finding quick documentation about the methods in a class.)"
      ]
    },
    {
      "cell_type": "code",
      "metadata": {
        "id": "C2b868YA8J3x"
      },
      "source": [
        "# Fill in the blanks in the code to make it print a poem.\n",
        "class Flower:\n",
        "  color = 'unknown'\n",
        "\n",
        "rose = Flower()\n",
        "rose.color = \"red\"\n",
        "\n",
        "violet = Flower()\n",
        "violet.color = \"blue\"\n",
        "\n",
        "this_pun_is_for_you = \"The honey's sweet, and so are you.\" \n",
        "\n",
        "print(\"Roses are {},\".format(rose.color))\n",
        "print(\"violets are {},\".format(violet.color))\n",
        "print(this_pun_is_for_you) "
      ],
      "execution_count": null,
      "outputs": []
    }
  ]
}