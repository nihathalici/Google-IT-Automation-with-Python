{
  "nbformat": 4,
  "nbformat_minor": 0,
  "metadata": {
    "colab": {
      "name": "Untitled1.ipynb",
      "provenance": [],
      "collapsed_sections": []
    },
    "kernelspec": {
      "name": "python3",
      "display_name": "Python 3"
    }
  },
  "cells": [
    {
      "cell_type": "markdown",
      "metadata": {
        "id": "U1UPI9Nu4XiA"
      },
      "source": [
        "# Week-5"
      ]
    },
    {
      "cell_type": "markdown",
      "metadata": {
        "id": "Ddh0_FK66urv"
      },
      "source": [
        "### Attributes are characteristics associated with a type. Methods are:\n",
        "\n",
        "\n",
        "- Lists associated with a type\n",
        "- Instances of a class\n",
        "- Characteristics associated with a type\n",
        "- **Functions associated with a type**\n",
        "(Correct. Right on! Remember, a method defines what you do with an object.)"
      ]
    },
    {
      "cell_type": "markdown",
      "metadata": {
        "id": "gB9-Vcer7mWG"
      },
      "source": [
        "### You want to find more information about the integer (int) class. What’s the best way to do this?\n",
        "\n",
        "- Use the command type(int)\n",
        "\n",
        "\n",
        "- Type ‘q’\n",
        "\n",
        "\n",
        "- Use the len() function\n",
        "- **Use the command help(int)**\n",
        "(Correct. Nailed it! Using the help command can be useful for finding quick documentation about the methods in a class.)"
      ]
    },
    {
      "cell_type": "code",
      "metadata": {
        "id": "C2b868YA8J3x"
      },
      "source": [
        "# Fill in the blanks in the code to make it print a poem.\n",
        "class Flower:\n",
        "  color = 'unknown'\n",
        "\n",
        "rose = Flower()\n",
        "rose.color = \"red\"\n",
        "\n",
        "violet = Flower()\n",
        "violet.color = \"blue\"\n",
        "\n",
        "this_pun_is_for_you = \"The honey's sweet, and so are you.\" \n",
        "\n",
        "print(\"Roses are {},\".format(rose.color))\n",
        "print(\"violets are {},\".format(violet.color))\n",
        "print(this_pun_is_for_you) "
      ],
      "execution_count": null,
      "outputs": []
    },
    {
      "cell_type": "code",
      "metadata": {
        "id": "EP88a3CyA-4R"
      },
      "source": [
        "# Create a Dog class with dog_years based on the Piglet class shown before (one human year is about 7 dog years).\n",
        "class Dog:\n",
        "  years = 0\n",
        "  def dog_years(self):\n",
        "    return self.years * 7 \n",
        "    \n",
        "fido=Dog()\n",
        "fido.years=3\n",
        "print(fido.dog_years())"
      ],
      "execution_count": null,
      "outputs": []
    },
    {
      "cell_type": "code",
      "metadata": {
        "id": "zSBOag2wBY68"
      },
      "source": [
        "'''\n",
        "In this code, there's a Person class that has an attribute name, which gets set when constructing the object. \n",
        "Fill in the blanks so that 1) when an instance of the class is created, the attribute gets set correctly, \n",
        "and 2) when the greeting() method is called, the greeting states the assigned name.\n",
        "''''\n",
        "class Person:\n",
        "    def __init__(self, name):\n",
        "        self.name = name\n",
        "    def greeting(self):\n",
        "        # Should return \"hi, my name is \" followed by the name of the Person.\n",
        "        return \"hi, my name is {}\".format(self.name) \n",
        "\n",
        "# Create a new instance with a name of your choice\n",
        "some_person = Person(\"Jack\")\n",
        "# Call the greeting method\n",
        "print(some_person.greeting())"
      ],
      "execution_count": null,
      "outputs": []
    },
    {
      "cell_type": "code",
      "metadata": {
        "id": "xZ_Z6CIbB3_L"
      },
      "source": [
        "'''\n",
        "Remember our Person class from the last video? Let’s add a docstring to the greeting method. \n",
        "How about, “Outputs a message with the name of the person”.\n",
        "'''\n",
        "class Person:\n",
        "  def __init__(self, name):\n",
        "    self.name = name\n",
        "  def greeting(self):\n",
        "    \"\"\"Outputs a message with the name of the person\"\"\"\n",
        "    print(\"Hello! My name is {name}.\".format(name=self.name)) \n",
        "\n",
        "help(Person.greeting)"
      ],
      "execution_count": null,
      "outputs": []
    },
    {
      "cell_type": "code",
      "metadata": {
        "id": "Q4bmHf8pCYBk"
      },
      "source": [
        "'''\n",
        "Let’s create a new class together and inherit from it. Below we have a base class called Clothing. \n",
        "Together, let’s create a second class, called Shirt, that inherits methods from the Clothing class. \n",
        "Fill in the blanks to make it work properly.\n",
        "'''\n",
        "class Clothing:\n",
        "  material = \"\"\n",
        "  def __init__(self,name):\n",
        "    self.name = name\n",
        "  def checkmaterial(self):\n",
        "\t  print(\"This {} is made of {}\".format(self.name,self.material))\n",
        "\t\t\t\n",
        "class Shirt(Clothing):\n",
        "  material=\"Cotton\"\n",
        "\n",
        "polo = Shirt(\"Polo\")\n",
        "polo.checkmaterial()"
      ],
      "execution_count": null,
      "outputs": []
    },
    {
      "cell_type": "code",
      "metadata": {
        "id": "RwOwVI3tCyuD"
      },
      "source": [
        "'''\n",
        "Let’s expand a bit on our Clothing classes from the previous in-video question. \n",
        "Your mission: Finish the \"Stock_by_Material\" method and iterate over the amount of each item \n",
        "of a given material that is in stock. \n",
        "When you’re finished, the script should add up to 10 cotton Polo shirts.\n",
        "'''\n",
        "class Clothing:\n",
        "  stock={ 'name': [],'material' :[], 'amount':[]}\n",
        "  def __init__(self,name):\n",
        "    material = \"\"\n",
        "    self.name = name\n",
        "  def add_item(self, name, material, amount):\n",
        "    Clothing.stock['name'].append(self.name)\n",
        "    Clothing.stock['material'].append(self.material)\n",
        "    Clothing.stock['amount'].append(amount)\n",
        "  def Stock_by_Material(self, material):\n",
        "    count=0\n",
        "    n=0\n",
        "    for item in Clothing.stock['material']:\n",
        "      if item == material:\n",
        "        count += Clothing.stock['amount'][n]\n",
        "        n+=1\n",
        "    return count\n",
        "\n",
        "class shirt(Clothing):\n",
        "  material=\"Cotton\"\n",
        "class pants(Clothing):\n",
        "  material=\"Cotton\"\n",
        "  \n",
        "polo = shirt(\"Polo\")\n",
        "sweatpants = pants(\"Sweatpants\")\n",
        "polo.add_item(polo.name, polo.material, 4)\n",
        "sweatpants.add_item(sweatpants.name, sweatpants.material, 6)\n",
        "current_stock = polo.Stock_by_Material(\"Cotton\")\n",
        "print(current_stock)"
      ],
      "execution_count": null,
      "outputs": []
    },
    {
      "cell_type": "markdown",
      "metadata": {
        "id": "DJ8u7mHiDSo0"
      },
      "source": [
        "### Let’s say we want to use the Keras deep learning module. Upon running the script, an error is printed stating the Keras module could not be found. What might we have missed?\n",
        "\n",
        "\n",
        "* We need to initialize the timedelta class\n",
        "\n",
        "\n",
        "* We need to define Keras functions\n",
        "\n",
        "\n",
        "* We need to define Keras attributes\n",
        "\n",
        "\n",
        "* **We need to import the Keras module**\n",
        "( Correct\n",
        "You got it! We must use the import keyword to import the module before it can be used. )"
      ]
    }
  ]
}