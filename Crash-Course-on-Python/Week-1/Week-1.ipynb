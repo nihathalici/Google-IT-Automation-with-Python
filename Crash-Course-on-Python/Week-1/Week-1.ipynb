{
  "nbformat": 4,
  "nbformat_minor": 0,
  "metadata": {
    "colab": {
      "name": "Untitled1.ipynb",
      "provenance": [],
      "collapsed_sections": []
    },
    "kernelspec": {
      "name": "python3",
      "display_name": "Python 3"
    }
  },
  "cells": [
    {
      "cell_type": "markdown",
      "metadata": {
        "id": "U1UPI9Nu4XiA"
      },
      "source": [
        "# Week-1"
      ]
    },
    {
      "cell_type": "markdown",
      "metadata": {
        "id": "Q7phy5aq4j-U"
      },
      "source": [
        "In this module we’ll introduce you to the Coursera platform and the course format. Then, we’ll dive into the basics of programming languages and syntax, as well as automation using scripting. We’ll also introduce you to the Python programming language and some of the benefits it offers. Last up, we’ll cover some basic functions and keywords of the language, along with some arithmetic operations."
      ]
    },
    {
      "cell_type": "markdown",
      "metadata": {
        "id": "sQgJuBny6CLq"
      },
      "source": [
        "### Why do we need to learn the syntax and semantics of a programming language?\n",
        "\n",
        "\n",
        "* To be able to easily switch to a different programming language\n",
        "* So that we know which part is the subject and which one is the predicate\n",
        "* **To allow us to clearly express what we want the computer to do (Correct)**\n",
        "* To understand why our computer crashes\n",
        "\n",
        "Correct\n",
        "You nailed it! Knowing the syntax and understanding the semantics of a programming language allows us to tell the computer what we want it to do.\n",
        "\n"
      ]
    },
    {
      "cell_type": "markdown",
      "metadata": {
        "id": "stNYdSrn5MxY"
      },
      "source": [
        "### What’s automation?\n",
        "\n",
        "* The process of telling a computer what to do\n",
        "* The process of installing traffic lights\n",
        "* The process of getting a haircut\n",
        "* **The process of replacing a manual step with one that happens automatically** (Correct)\n",
        "\n",
        "Correct\n",
        "Right on! By replacing a manual step with an automatic one we create automation that helps us reduce unnecessary manual work.\n"
      ]
    },
    {
      "cell_type": "markdown",
      "metadata": {
        "id": "YrOQ-s-G67O4"
      },
      "source": [
        "### Which of the following tasks do you think are good candidates for automation? Check all that apply.\n",
        "\n",
        "\n",
        "* **Periodically scanning the disk usage of a group of fileservers**\n",
        "Correct\n",
        "You nailed it! Scanning the disk usage is a task that can be easily automated. By letting the computer do it, you won't have to worry about forgetting to do it whenever it's needed.\n",
        "\n",
        "\n",
        "* Investigating reports that customers are having difficulty accessing your company's external website\n",
        "\n",
        "\n",
        "* **Installing software on laptops given to new employees when they are hired**\n",
        "Correct\n",
        "Right on! Installing and configuring software is a task that can be automated. Ensuring that everyone gets the exact same setup and reducing the amount of manual work needed for each new employee.\n",
        "\n",
        "\n",
        "* Designing a configuration management system for deploying software patches"
      ]
    },
    {
      "cell_type": "code",
      "metadata": {
        "id": "5WAHZy7q7lN4"
      },
      "source": [
        "# Execute the following code and see what happens. Feel free to change it and run it as many times as you want.\n",
        "friends = ['Taylor', 'Alex', 'Pat', 'Eli']\n",
        "for friend in friends:\n",
        "    print(\"Hi \" + friend)"
      ],
      "execution_count": null,
      "outputs": []
    },
    {
      "cell_type": "markdown",
      "metadata": {
        "id": "wjq2LtNN8Grd"
      },
      "source": [
        "### Select all options that explain why Python is relevant to today’s IT industry.\n",
        "\n",
        "\n",
        "* **Python scripts are easy to write, understand, and maintain.**\n",
        "Correct\n",
        "Woohoo! Python is a language that tries to mimic our natural language and so Python scripts are generally easy to write, understand and maintain.\n",
        "\n",
        "\n",
        "* **There are many system administration tools built with Python.**\n",
        "Correct\n",
        "You got it! Over the years, the Python community has developed a lot of additional tools that can be used by system administrators to get their job done.\n",
        "\n",
        "\n",
        "* Python was written by Guido van Rossum in 1991.\n",
        "\n",
        "\n",
        "* **Python is available on a wide variety of platforms.**\n",
        "Correct\n",
        "Well done, you! Python is available on Windows, Linux, MacOS and even on mobile devices, making it a great tool for IT specialist looking to create scripts that can work across platforms.\n",
        "\n",
        "\n",
        "There have been multiple major version releases over the years which incorporate significant changes to the language."
      ]
    },
    {
      "cell_type": "code",
      "metadata": {
        "id": "hwQMc0048l4t"
      },
      "source": [
        "'''\n",
        "Here's how printing \"Hello, World\" 10 times looks in Bash and Powershell:\n",
        "Bash:\n",
        "for i in {1..10}; do\n",
        "         echo Hello, World!\n",
        "done\n",
        "\n",
        "PowerShell:\n",
        "for ($i=1, $i -le 10; $i++) {\n",
        "       Write-Host  \"Hello, World!\"\n",
        "}\n",
        "'''\n",
        "for i in range(10):\n",
        "  print(\"Hello, World!\")"
      ],
      "execution_count": null,
      "outputs": []
    },
    {
      "cell_type": "code",
      "metadata": {
        "id": "wanToLYc9u3W"
      },
      "source": [
        "'''\n",
        "Now that you know what’s going on with this piece of code, try making Python output a different string. Write a Python script \n",
        "that outputs \"I'm programming in Python!\" to the screen. Remember that you need to use the print() function \n",
        "and use quotation marks to delimiter the string.\n",
        "'''\n",
        "print(\"I'm programming in Python!\" )"
      ],
      "execution_count": null,
      "outputs": []
    },
    {
      "cell_type": "code",
      "metadata": {
        "id": "nxJhkp-0-N45"
      },
      "source": [
        "'''\n",
        "Give it a try yourself! In the following script, change the values of color and thing to have the computer output \n",
        "a different statement than the initial one.\n",
        "'''\n",
        "color = \"Green\"\n",
        "thing = \"Hope\"\n",
        "print(color + \" is the color of \" + thing)"
      ],
      "execution_count": null,
      "outputs": []
    },
    {
      "cell_type": "code",
      "metadata": {
        "colab": {
          "base_uri": "https://localhost:8080/",
          "height": 148
        },
        "id": "5K1QSeOr-dMz",
        "outputId": "802d4555-5c87-4d2d-a905-785645d128fb"
      },
      "source": [
        "'''\n",
        "Now it’s your turn to try! Give this a go yourself.\n",
        "Use Python to calculate (((1+2)*3)/4)^5 \n",
        "Tip: remember that you can use a**b to calculate a to the power of b. \n",
        "'''\n",
        "print( (((1+2) * 3) / 4) ** 5  )"
      ],
      "execution_count": 1,
      "outputs": [
        {
          "output_type": "error",
          "ename": "SyntaxError",
          "evalue": "ignored",
          "traceback": [
            "\u001b[0;36m  File \u001b[0;32m\"<ipython-input-1-6b6350e94cb9>\"\u001b[0;36m, line \u001b[0;32m5\u001b[0m\n\u001b[0;31m    Tip: remember that you can use a**b to calculate a to the power of b.\u001b[0m\n\u001b[0m                                                                          \n^\u001b[0m\n\u001b[0;31mSyntaxError\u001b[0m\u001b[0;31m:\u001b[0m EOF while scanning triple-quoted string literal\n"
          ]
        }
      ]
    },
    {
      "cell_type": "code",
      "metadata": {
        "id": "WAnxSBPj-hTx"
      },
      "source": [
        ""
      ],
      "execution_count": null,
      "outputs": []
    }
  ]
}