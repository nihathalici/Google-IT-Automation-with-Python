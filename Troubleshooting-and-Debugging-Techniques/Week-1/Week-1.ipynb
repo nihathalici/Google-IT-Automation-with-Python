{
  "nbformat": 4,
  "nbformat_minor": 0,
  "metadata": {
    "colab": {
      "name": "Untitled1.ipynb",
      "provenance": [],
      "collapsed_sections": []
    },
    "kernelspec": {
      "name": "python3",
      "display_name": "Python 3"
    }
  },
  "cells": [
    {
      "cell_type": "markdown",
      "metadata": {
        "id": "OKnyhHDyDG87"
      },
      "source": [
        "# Week-1"
      ]
    },
    {
      "cell_type": "markdown",
      "metadata": {
        "id": "i4-JiRpplH7E"
      },
      "source": [
        "### What is the general description of debugging?  \n",
        "\n",
        "\n",
        "* Fixing problems in the system running the application  \n",
        "\n",
        "\n",
        "* Fixing issues related to hardware  \n",
        "\n",
        "\n",
        "* Fixing configuration issues in the software  \n",
        "\n",
        "* **Fixing bugs in the code of the application**  \n",
        "\n",
        "( Correct.\n",
        "Awesome! Generally, debugging means fixing bugs in the code of the application. )  "
      ]
    },
    {
      "cell_type": "markdown",
      "metadata": {
        "id": "R5zzG9Y42zF1"
      },
      "source": [
        "### What is the second step of problem solving?  \n",
        "\n",
        "\n",
        "* Short-term remediation  \n",
        "\n",
        "\n",
        "* Long-term remediation  \n",
        "\n",
        "\n",
        "* Gathering information\n",
        "\n",
        "* **Finding the root cause**    \n",
        "\n",
        "( Correct.\n",
        "Right on! Finding the root cause is the second step taken when problem solving. ) "
      ]
    }
  ]
}