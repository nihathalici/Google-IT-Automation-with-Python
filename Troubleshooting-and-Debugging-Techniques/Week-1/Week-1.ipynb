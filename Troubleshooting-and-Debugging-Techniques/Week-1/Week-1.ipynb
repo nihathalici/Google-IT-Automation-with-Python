{
  "nbformat": 4,
  "nbformat_minor": 0,
  "metadata": {
    "colab": {
      "name": "Untitled1.ipynb",
      "provenance": [],
      "collapsed_sections": []
    },
    "kernelspec": {
      "name": "python3",
      "display_name": "Python 3"
    }
  },
  "cells": [
    {
      "cell_type": "markdown",
      "metadata": {
        "id": "OKnyhHDyDG87"
      },
      "source": [
        "# Week-1"
      ]
    },
    {
      "cell_type": "markdown",
      "metadata": {
        "id": "i4-JiRpplH7E"
      },
      "source": [
        "### What is the general description of debugging?  \n",
        "\n",
        "\n",
        "* Fixing problems in the system running the application  \n",
        "\n",
        "\n",
        "* Fixing issues related to hardware  \n",
        "\n",
        "\n",
        "* Fixing configuration issues in the software  \n",
        "\n",
        "* **Fixing bugs in the code of the application**  \n",
        "\n",
        "( Correct.\n",
        "Awesome! Generally, debugging means fixing bugs in the code of the application. )  "
      ]
    },
    {
      "cell_type": "markdown",
      "metadata": {
        "id": "R5zzG9Y42zF1"
      },
      "source": [
        "### What is the second step of problem solving?  \n",
        "\n",
        "\n",
        "* Short-term remediation  \n",
        "\n",
        "\n",
        "* Long-term remediation  \n",
        "\n",
        "\n",
        "* Gathering information\n",
        "\n",
        "* **Finding the root cause**    \n",
        "\n",
        "( Correct.\n",
        "Right on! Finding the root cause is the second step taken when problem solving. ) "
      ]
    },
    {
      "cell_type": "markdown",
      "metadata": {
        "id": "GMjmJ6G3XKGh"
      },
      "source": [
        "### Which command can you use to scroll through a lot of text output after tracing system calls of a script?  \n",
        "\n",
        "\n",
        "* strace -o fail.strace ./script.py  \n",
        "\n",
        "\n",
        "* strace ./script.py  \n",
        "\n",
        "\n",
        "* strace ./script.py -o fail.strace  \n",
        "\n",
        "* **strace ./script.py | less**  \n",
        "\n",
        "( Correct.\n",
        "Great work! Piping the less command allows you to scroll through a lot of text output. )  "
      ]
    },
    {
      "cell_type": "markdown",
      "metadata": {
        "id": "sDR8XHtTQUB6"
      },
      "source": [
        "### When a user reports that a \"website doesn't work,\" what is an appropriate follow-up question you can use to gather more information about the problem?  \n",
        "\n",
        "\n",
        "* Is the server receiving power?  \n",
        "\n",
        "\n",
        "* What server is the website hosted on?  \n",
        "\n",
        "\n",
        "* Do you have support ticket number?\n",
        "\n",
        "* **What steps did you perform?** \n",
        "\n",
        "( Correct.\n",
        "You got it! Asking the user what steps they performed will help you gather more information in order to better understand and isolate the problem. )  "
      ]
    },
    {
      "cell_type": "markdown",
      "metadata": {
        "id": "4smfX9T2YsLL"
      },
      "source": [
        "### A program fails with an error, “No such file or directory.” You create a directory at the expected file path and the program successfully runs. Describe the reproduction case you’ll submit to the program developer to verify and fix this error.  \n",
        "\n",
        "\n",
        "* A report with application logs exported from Windows Event Viewer   \n",
        "\n",
        "\n",
        "* A report listing the contents of the new directory  \n",
        "\n",
        "\n",
        "* A report listing the differences between strace and ltrace logs.  \n",
        "\n",
        "* **A report explaining to open the program without the specific directory on the computer**\n",
        "\n",
        "( Correct.\n",
        "You got it! This a specific way to reproduce the error and verify it exists. The developer can work on fixing it right away. )  "
      ]
    },
    {
      "cell_type": "markdown",
      "metadata": {
        "id": "NYD75fqgpec-"
      },
      "source": [
        "### Generally, understanding the root cause is essential for _____?  \n",
        "\n",
        "\n",
        "* Purchasing new devices  \n",
        "\n",
        "\n",
        "* Producing test data  \n",
        "\n",
        "\n",
        "* Avoiding interfering with users  \n",
        "\n",
        "\n",
        "* **Providing the long-term resolution**  \n",
        "\n",
        "( Correct.\n",
        "Nailed it! Understanding the root cause is essential for providing the long-term resolution. )  "
      ]
    },
    {
      "cell_type": "markdown",
      "metadata": {
        "id": "HgXU6c7X6JYR"
      },
      "source": [
        "### What sort of software bug might we be dealing with if power cycling resolves a problem?  \n",
        "\n",
        "\n",
        "* A heisenbug  \n",
        "\n",
        "\n",
        "* Logs filling up  \n",
        "\n",
        "\n",
        "* A file remains open  \n",
        "\n",
        "* **Poorly managed resources** \n",
        "\n",
        "( Correct.\n",
        "Way to go! Power cycling releases resources stored in cache or memory, which gets rid of the problem. )  "
      ]
    }
  ]
}