{
  "nbformat": 4,
  "nbformat_minor": 0,
  "metadata": {
    "colab": {
      "name": "Untitled1.ipynb",
      "provenance": [],
      "collapsed_sections": []
    },
    "kernelspec": {
      "name": "python3",
      "display_name": "Python 3"
    }
  },
  "cells": [
    {
      "cell_type": "markdown",
      "metadata": {
        "id": "OKnyhHDyDG87"
      },
      "source": [
        "# Week-4"
      ]
    },
    {
      "cell_type": "markdown",
      "metadata": {
        "id": "a4qPTVD3a3eH"
      },
      "source": [
        "### Which of the following descriptions most likely points to a possible memory leak?    \n",
        "\n",
        "\n",
        "* Garbage collector carries out its task.  \n",
        "\n",
        "\n",
        "* The function returns after it completes.  \n",
        "\n",
        "\n",
        "* Valgrind figures out memory usage.\n",
        "\n",
        "\n",
        "* **Application process uses more memory even after a restart.**\n",
        "\n",
        "( Correct.\n",
        "Woohoo! An app that still needs a lot of memory, even after a restart, most likely points to a memory leak. )  "
      ]
    },
    {
      "cell_type": "markdown",
      "metadata": {
        "id": "MuUyh2NsbVDs"
      },
      "source": [
        "### Which of the following is an example of unnecessary files on a server storage device that can affect applications from running if not cleaned up properly?  \n",
        "\n",
        "\n",
        "* A SQL database  \n",
        "\n",
        "\n",
        "* A mailbox database  \n",
        "\n",
        "\n",
        "* A set of application files  \n",
        "\n",
        "\n",
        "* **A set of large temporary files**  \n",
        "\n",
        "( Correct.\n",
        "You nailed it! Large temporary files may remain if an application crashes because it’s not cleaned up automatically. )  "
      ]
    },
    {
      "cell_type": "markdown",
      "metadata": {
        "id": "HRYU5WmGb7RB"
      },
      "source": [
        "### The custom application running on a server can’t receive new connections. Existing connections are sending and receiving data in a reasonable time. Which of the following explains the reason why new sessions can’t be established with the server?  \n",
        "\n",
        "\n",
        "* High network latency  \n",
        "\n",
        "\n",
        "* Low network bandwidth  \n",
        "\n",
        "\n",
        "* No traffic shaping\n",
        "\n",
        "\n",
        "* **Too many connections**\n",
        "\n",
        "( Correct.\n",
        "Great work! There are limits to how many connections a single server can have, which will prevent new connections. ) "
      ]
    },
    {
      "cell_type": "markdown",
      "metadata": {
        "id": "uiHzrHqbAJLW"
      },
      "source": [
        "### Which of the following describes a technical debt?    \n",
        "\n",
        "\n",
        "* Rewriting a program to prevent memory leaks.  \n",
        "\n",
        "\n",
        "* Setting up traffic shaping to improve communication with remote services.  \n",
        "\n",
        "\n",
        "* Adding a hard drive to make room to install the application.\n",
        "\n",
        "\n",
        "* **Restarting a web server that has suspended services.**\n",
        "\n",
        "( Correct.\n",
        "You got it! Restarting a server is a quick-fix or short-term remediation, which is also known as technical debt. )  "
      ]
    },
    {
      "cell_type": "markdown",
      "metadata": {
        "id": "L8GMccz3Ae-r"
      },
      "source": [
        "### Using a basic structure to organize and prioritize tasks, what’s the next thing you should do after creating a list of all the tasks you need to complete?  \n",
        "\n",
        "\n",
        "* Sort tasks in groups.  \n",
        "\n",
        "\n",
        "* Assess the importance of each issue.    \n",
        "\n",
        "\n",
        "* Estimate the amount of effort.  \n",
        "\n",
        "\n",
        "* **Complete most urgent tasks immediately.**\n",
        "\n",
        "( Correct.\n",
        "Woohoo! The most urgent tasks should be done immediately after completing the list. )  "
      ]
    },
    {
      "cell_type": "markdown",
      "metadata": {
        "id": "Tr694De5AzKJ"
      },
      "source": [
        "### Which of the following factors will be most beneficial in estimating the time it will take for you to complete a specific project?  \n",
        "\n",
        "\n",
        "* Be overly optimistic with your time.  \n",
        "\n",
        "\n",
        "* Multiply the estimate by a random factor.  \n",
        "\n",
        "\n",
        "* Double your time.  \n",
        "\n",
        "\n",
        "* **Compare time used to similar projects or tasks.**   \n",
        "\n",
        "( Correct.\n",
        "You nailed it! The best way to estimate time on a new project is to compare your estimate to similar tasks or projects completed previously. )  "
      ]
    },
    {
      "cell_type": "markdown",
      "metadata": {
        "id": "wOD4-lqtBIxh"
      },
      "source": [
        "### Which of the following is an example of a practical shortcut to resolve incidents in a datacenter related to hard drive pre-failures?    \n",
        "\n",
        "\n",
        "* Automated RAID scripts  \n",
        "\n",
        "\n",
        "* Spare servers  \n",
        "\n",
        "\n",
        "* Automated server scripts.\n",
        "\n",
        "\n",
        "* **Spare drives**\n",
        "\n",
        "( Correct.\n",
        "Right on! Spare drives are a practical shortcut that can quickly replace hard drives in a pre-fail state. )  "
      ]
    }
  ]
}