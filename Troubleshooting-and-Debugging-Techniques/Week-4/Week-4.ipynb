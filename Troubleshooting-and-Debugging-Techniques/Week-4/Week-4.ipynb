{
  "nbformat": 4,
  "nbformat_minor": 0,
  "metadata": {
    "colab": {
      "name": "Untitled1.ipynb",
      "provenance": [],
      "collapsed_sections": []
    },
    "kernelspec": {
      "name": "python3",
      "display_name": "Python 3"
    }
  },
  "cells": [
    {
      "cell_type": "markdown",
      "metadata": {
        "id": "OKnyhHDyDG87"
      },
      "source": [
        "# Week-4"
      ]
    },
    {
      "cell_type": "markdown",
      "metadata": {
        "id": "a4qPTVD3a3eH"
      },
      "source": [
        "### Which of the following descriptions most likely points to a possible memory leak?    \n",
        "\n",
        "\n",
        "* Garbage collector carries out its task.  \n",
        "\n",
        "\n",
        "* The function returns after it completes.  \n",
        "\n",
        "\n",
        "* Valgrind figures out memory usage.\n",
        "\n",
        "\n",
        "* **Application process uses more memory even after a restart.**\n",
        "\n",
        "( Correct.\n",
        "Woohoo! An app that still needs a lot of memory, even after a restart, most likely points to a memory leak. )  "
      ]
    },
    {
      "cell_type": "markdown",
      "metadata": {
        "id": "MuUyh2NsbVDs"
      },
      "source": [
        "### Which of the following is an example of unnecessary files on a server storage device that can affect applications from running if not cleaned up properly?  \n",
        "\n",
        "\n",
        "* A SQL database  \n",
        "\n",
        "\n",
        "* A mailbox database  \n",
        "\n",
        "\n",
        "* A set of application files  \n",
        "\n",
        "\n",
        "* **A set of large temporary files**  \n",
        "\n",
        "( Correct.\n",
        "You nailed it! Large temporary files may remain if an application crashes because it’s not cleaned up automatically. )  "
      ]
    },
    {
      "cell_type": "markdown",
      "metadata": {
        "id": "HRYU5WmGb7RB"
      },
      "source": [
        "### The custom application running on a server can’t receive new connections. Existing connections are sending and receiving data in a reasonable time. Which of the following explains the reason why new sessions can’t be established with the server?  \n",
        "\n",
        "\n",
        "* High network latency  \n",
        "\n",
        "\n",
        "* Low network bandwidth  \n",
        "\n",
        "\n",
        "* No traffic shaping\n",
        "\n",
        "\n",
        "* **Too many connections**\n",
        "\n",
        "( Correct.\n",
        "Great work! There are limits to how many connections a single server can have, which will prevent new connections. ) "
      ]
    }
  ]
}