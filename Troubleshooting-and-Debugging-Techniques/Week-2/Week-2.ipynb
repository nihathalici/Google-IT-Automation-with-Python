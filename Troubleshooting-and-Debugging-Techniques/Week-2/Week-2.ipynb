{
  "nbformat": 4,
  "nbformat_minor": 0,
  "metadata": {
    "colab": {
      "name": "Untitled1.ipynb",
      "provenance": [],
      "collapsed_sections": []
    },
    "kernelspec": {
      "name": "python3",
      "display_name": "Python 3"
    }
  },
  "cells": [
    {
      "cell_type": "markdown",
      "metadata": {
        "id": "OKnyhHDyDG87"
      },
      "source": [
        "# Week-2"
      ]
    },
    {
      "cell_type": "markdown",
      "metadata": {
        "id": "gt8iq37BCUWz"
      },
      "source": [
        "### When addressing slowness, what do you need to identify?  \n",
        "\n",
        "* The device  \n",
        "\n",
        "\n",
        "* The script  \n",
        "\n",
        "\n",
        "* The system  \n",
        "\n",
        "* **The bottleneck**\n",
        "\n",
        "( Correct.\n",
        "Woohoo! The bottleneck could be the CPU time, or time spent reading data from disk. )  "
      ]
    }
  ]
}