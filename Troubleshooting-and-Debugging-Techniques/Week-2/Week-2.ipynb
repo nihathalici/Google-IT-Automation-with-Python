{
  "nbformat": 4,
  "nbformat_minor": 0,
  "metadata": {
    "colab": {
      "name": "Untitled1.ipynb",
      "provenance": [],
      "collapsed_sections": []
    },
    "kernelspec": {
      "name": "python3",
      "display_name": "Python 3"
    }
  },
  "cells": [
    {
      "cell_type": "markdown",
      "metadata": {
        "id": "OKnyhHDyDG87"
      },
      "source": [
        "# Week-2"
      ]
    },
    {
      "cell_type": "markdown",
      "metadata": {
        "id": "gt8iq37BCUWz"
      },
      "source": [
        "### When addressing slowness, what do you need to identify?  \n",
        "\n",
        "* The device  \n",
        "\n",
        "\n",
        "* The script  \n",
        "\n",
        "\n",
        "* The system  \n",
        "\n",
        "* **The bottleneck**\n",
        "\n",
        "( Correct.\n",
        "Woohoo! The bottleneck could be the CPU time, or time spent reading data from disk. )  "
      ]
    },
    {
      "cell_type": "markdown",
      "metadata": {
        "id": "s69xfvpjVNWt"
      },
      "source": [
        "### After retrieving data from the network, how can an application access that same data quicker next time?\n",
        "\n",
        "\n",
        "* Use the swap\n",
        "\n",
        "\n",
        "* Use memory leak\n",
        "\n",
        "\n",
        "* Store in RAM\n",
        "\n",
        "\n",
        "* **Create a cache**\n",
        "\n",
        "( Correct.\n",
        "You nailed it! A cache stores data in a form that's faster to access than its original form. )"
      ]
    },
    {
      "cell_type": "markdown",
      "metadata": {
        "id": "IATS2Qp94Vkc"
      },
      "source": [
        "### A computer becomes sluggish after a few days, and the problem goes away after a reboot. Which of the following is the possible cause?\n",
        "\n",
        "\n",
        "* Files are growing too large. \n",
        "\n",
        "\n",
        "* Files are being read from the network. \n",
        "\n",
        "\n",
        "* Hard drive failure.\n",
        "\n",
        "\n",
        "* **A program is keeping some state while running.**\n",
        "\n",
        "( Correct.\n",
        "Awesome! A program keeping a state without any change can slow down a computer up until it is rebooted. ) "
      ]
    }
  ]
}