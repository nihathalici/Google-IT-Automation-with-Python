{
  "nbformat": 4,
  "nbformat_minor": 0,
  "metadata": {
    "colab": {
      "name": "Untitled1.ipynb",
      "provenance": [],
      "collapsed_sections": []
    },
    "kernelspec": {
      "name": "python3",
      "display_name": "Python 3"
    }
  },
  "cells": [
    {
      "cell_type": "markdown",
      "metadata": {
        "id": "OKnyhHDyDG87"
      },
      "source": [
        "# Week-2"
      ]
    },
    {
      "cell_type": "markdown",
      "metadata": {
        "id": "gt8iq37BCUWz"
      },
      "source": [
        "### When addressing slowness, what do you need to identify?  \n",
        "\n",
        "* The device  \n",
        "\n",
        "\n",
        "* The script  \n",
        "\n",
        "\n",
        "* The system  \n",
        "\n",
        "* **The bottleneck**\n",
        "\n",
        "( Correct.\n",
        "Woohoo! The bottleneck could be the CPU time, or time spent reading data from disk. )  "
      ]
    },
    {
      "cell_type": "markdown",
      "metadata": {
        "id": "s69xfvpjVNWt"
      },
      "source": [
        "### After retrieving data from the network, how can an application access that same data quicker next time?\n",
        "\n",
        "\n",
        "* Use the swap\n",
        "\n",
        "\n",
        "* Use memory leak\n",
        "\n",
        "\n",
        "* Store in RAM\n",
        "\n",
        "\n",
        "* **Create a cache**\n",
        "\n",
        "( Correct.\n",
        "You nailed it! A cache stores data in a form that's faster to access than its original form. )"
      ]
    },
    {
      "cell_type": "markdown",
      "metadata": {
        "id": "IATS2Qp94Vkc"
      },
      "source": [
        "### A computer becomes sluggish after a few days, and the problem goes away after a reboot. Which of the following is the possible cause?\n",
        "\n",
        "\n",
        "* Files are growing too large. \n",
        "\n",
        "\n",
        "* Files are being read from the network. \n",
        "\n",
        "\n",
        "* Hard drive failure.\n",
        "\n",
        "\n",
        "* **A program is keeping some state while running.**\n",
        "\n",
        "( Correct.\n",
        "Awesome! A program keeping a state without any change can slow down a computer up until it is rebooted. ) "
      ]
    },
    {
      "cell_type": "markdown",
      "metadata": {
        "id": "ehb66JLFYCUA"
      },
      "source": [
        "### What is the cProfile module used for?\n",
        "\n",
        "\n",
        "* For parsing files.\n",
        "\n",
        "\n",
        "* To analyze a C program.\n",
        "\n",
        "\n",
        "* To remove unnecessary functions.\n",
        "\n",
        "\n",
        "* **To count functions calls**\n",
        "\n",
        "( Correct.\n",
        "Right on! The cProfile module is used to count how many times functions are called, and how long they run. )"
      ]
    },
    {
      "cell_type": "markdown",
      "metadata": {
        "id": "wiA1_CCSYcb6"
      },
      "source": [
        "### Which of the following has values associated with keys in Python?\n",
        "\n",
        "\n",
        "* A hash\n",
        "\n",
        "\n",
        "* A HashMap\n",
        "\n",
        "\n",
        "* An Unordered Map\n",
        "\n",
        "\n",
        "* **A dictionary**\n",
        "\n",
        "( Correct.\n",
        "You nailed it! Python uses a dictionary to store values, each with a specific key. )"
      ]
    },
    {
      "cell_type": "markdown",
      "metadata": {
        "id": "elh7H1ZVWzwj"
      },
      "source": [
        "### Your Python script searches a directory, and runs other tasks in a single loop function for 100s of computers on the network. Which action will make the script the least expensive?    \n",
        "\n",
        "\n",
        "* Loop the total number of computers  \n",
        "\n",
        "\n",
        "* Service only half of the computers  \n",
        "\n",
        "\n",
        "* Use more memory\n",
        "\n",
        "\n",
        "* **Read the directory once**\n",
        "\n",
        "( Correct.\n",
        "Awesome! Reading the directory once before the loop will make the script less expensive to run. )  "
      ]
    },
    {
      "cell_type": "markdown",
      "metadata": {
        "id": "UTN9qcEiZIOQ"
      },
      "source": [
        "### Your script calculates the average number of active user sessions during business hours in a seven-day period. How often should a local cache be created to give a good enough average without updating too often?  \n",
        "\n",
        "\n",
        "* Once a week  \n",
        "\n",
        "\n",
        "* Once a month  \n",
        "\n",
        "\n",
        "* Once every 8 hours\n",
        "\n",
        "\n",
        "* **Once a day**\n",
        "\n",
        "( Correct.\n",
        "Woohoo! A local cache for every day can be accessed quickly, and processed for a seven-day average calculation. )    "
      ]
    },
    {
      "cell_type": "markdown",
      "metadata": {
        "id": "Fe_NDR1vZlbT"
      },
      "source": [
        "### You use the time command to determine how long a script runs to complete its various tasks. Which output value will show the time spent doing operations in the user space?  \n",
        "\n",
        "\n",
        "* Real  \n",
        "\n",
        "\n",
        "* Wall-clock  \n",
        "\n",
        "\n",
        "* Sys  \n",
        "\n",
        "\n",
        "* **User**  \n",
        "\n",
        "( Correct.\n",
        "You nailed it! The user value is the time spent doing operations in the user space. ) "
      ]
    },
    {
      "cell_type": "markdown",
      "metadata": {
        "id": "myWiaezMrx9I"
      },
      "source": [
        "### A script is _____ if you are running operations in parallel using all available CPU time.  \n",
        "\n",
        "\n",
        "* I/O bound  \n",
        "\n",
        "\n",
        "* Threading    \n",
        "\n",
        "\n",
        "* Asyncio\n",
        "\n",
        "\n",
        "* **CPU bound**\n",
        "\n",
        "( Correct.\n",
        "Right on! A script is CPU bound if you're running operations in parallel using all available CPU time. )"
      ]
    },
    {
      "cell_type": "markdown",
      "metadata": {
        "id": "BQbDI2NZspcO"
      },
      "source": [
        "### You’re creating a simple script that runs a query on a list of product names of a very small business, and initiates automated tasks based on those queries. Which of the following would you use to store product names?  \n",
        "\n",
        "\n",
        "* SQLite  \n",
        "\n",
        "\n",
        "* Microsoft SQL Server  \n",
        "\n",
        "\n",
        "* Memcached  \n",
        "\n",
        "\n",
        "* **CSV file**  \n",
        "\n",
        "( Correct.\n",
        "Nice job! A simple CSV file is enough to store a list of product names. ) "
      ]
    },
    {
      "cell_type": "markdown",
      "metadata": {
        "id": "FkN1LScstTIq"
      },
      "source": [
        "### A company has a single web server hosting a website that also interacts with an external database server. The web server is processing requests very slowly. Checking the web server, you found the disk I/O has high latency. Where is the cause of the slow website requests most likely originating from?  \n",
        "\n",
        "* **Local disk**  \n",
        "( Correct.\n",
        "You got it! The local disk I/O latency is causing the application to wait too long for data from disk. )  \n",
        "\n",
        "\n",
        "* Remote database  \n",
        "\n",
        "\n",
        "* Slow Internet  \n",
        "\n",
        "\n",
        "* Database index "
      ]
    },
    {
      "cell_type": "markdown",
      "metadata": {
        "id": "yJJsddoAtxLM"
      },
      "source": [
        "### Which module makes it possible to run operations in a script in parallel that makes better use of CPU processing time?  \n",
        "\n",
        "\n",
        "* Executor    \n",
        "\n",
        "\n",
        "* Varnish  \n",
        "\n",
        "\n",
        "* Concurrency\n",
        "\n",
        "\n",
        "* **Futures** \n",
        "\n",
        "( Correct.\n",
        "Woohoo! The futures module makes it possible to run operations in parallel using different executors. )  "
      ]
    }
  ]
}