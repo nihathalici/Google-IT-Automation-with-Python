{
  "nbformat": 4,
  "nbformat_minor": 0,
  "metadata": {
    "colab": {
      "name": "Untitled1.ipynb",
      "provenance": [],
      "collapsed_sections": []
    },
    "kernelspec": {
      "name": "python3",
      "display_name": "Python 3"
    }
  },
  "cells": [
    {
      "cell_type": "markdown",
      "metadata": {
        "id": "OKnyhHDyDG87"
      },
      "source": [
        "# Week-3"
      ]
    },
    {
      "cell_type": "markdown",
      "metadata": {
        "id": "zmiZjeZtF7M4"
      },
      "source": [
        "### A user reported an application crashes on their computer. You log in and try to run the program and it crashes again. Which of the following steps would you perform next to reduce the scope of the problem?  \n",
        "\n",
        "\n",
        "* Check the health of the RAM  \n",
        "\n",
        "\n",
        "* Switch the hard drive into another computer  \n",
        "\n",
        "\n",
        "* Check the health of the hard drive  \n",
        "\n",
        "\n",
        "* **Review application logs**  \n",
        "\n",
        "Correct\n",
        "Awesome! Reviewing logs is the next best step to determine if logs reveal any reason for the crash. "
      ]
    },
    {
      "cell_type": "markdown",
      "metadata": {
        "id": "g7rlssD4GLGA"
      },
      "source": [
        "### Where should you look for application logs on a Windows system?  \n",
        "\n",
        "\n",
        "* The /var/log directory  \n",
        "\n",
        "\n",
        "* The .xsession-errors file  \n",
        "\n",
        "\n",
        "* The Console app  \n",
        "\n",
        "\n",
        "* **The Event Viewer app**  \n",
        "\n",
        "( Correct.\n",
        "Great job! The Event Viewer app contains logs on a Windows system. )  "
      ]
    },
    {
      "cell_type": "markdown",
      "metadata": {
        "id": "WV_GfbwnGg8s"
      },
      "source": [
        "### An application fails in random intervals after it was installed on a different operating system version. What can you do to work around the issue?  \n",
        "\n",
        "\n",
        "* Use a wrapper    \n",
        "\n",
        "\n",
        "* Use a watchdog  \n",
        "\n",
        "\n",
        "* Use an XML format  \n",
        "\n",
        "\n",
        "* **Use a container**\n",
        "\n",
        "( Correct.\n",
        "Nice work! A container allows the application to run in its own environment without interfering with the rest of the system. )  "
      ]
    },
    {
      "cell_type": "markdown",
      "metadata": {
        "id": "onoEULKVG8LW"
      },
      "source": [
        "### Where is a common location to view configuration files for a web application running on a Linux server?  \n",
        "\n",
        "\n",
        "* /var/log/<app folder>  \n",
        "\n",
        "\n",
        "* /srv/<app folder>  \n",
        "\n",
        "\n",
        "* /<app folder>\n",
        "\n",
        "\n",
        "* **/etc/<app folder>**  \n",
        "\n",
        "( Correct.\n",
        "Right on! The /etc directory will contain the application folder that stores configuration files. )  "
      ]
    },
    {
      "cell_type": "markdown",
      "metadata": {
        "id": "j1NFAZeG53ro"
      },
      "source": [
        "### Which of the following can assist in finding out if invalid operations are occurring in a program running on a Windows system?  \n",
        "\n",
        "\n",
        "* Valgrind   \n",
        "\n",
        "\n",
        "* PBD files  \n",
        "\n",
        "\n",
        "* Segfaults \n",
        "\n",
        "\n",
        "* **Dr. Memory** \n",
        "\n",
        "( Correct.\n",
        "You got it! Dr. Memory can assist in finding out if invalid operations are occurring in a program running on Windows or Linux. )  "
      ]
    },
    {
      "cell_type": "markdown",
      "metadata": {
        "id": "WNn3oytO6WTK"
      },
      "source": [
        "### What can you use to notify users when an error occurs, the reason why it occurred, and how to resolve it?  \n",
        "\n",
        "\n",
        "* The pdb module   \n",
        "\n",
        "\n",
        "* Use printf debugging  \n",
        "\n",
        "\n",
        "* The echo command\n",
        "\n",
        "\n",
        "* **The logging module** \n",
        "\n",
        "Correct\n",
        "Excellent! The logging module sets debug messages to show up when the code fails.  "
      ]
    },
    {
      "cell_type": "markdown",
      "metadata": {
        "id": "QgYwKgOp6s4F"
      },
      "source": [
        "### After getting acquainted with the program’s code, where might you start to fix a problem?  \n",
        "\n",
        "\n",
        "* Run through tests  \n",
        "\n",
        "\n",
        "* Read the comments    \n",
        "\n",
        "\n",
        "* Create new tests\n",
        "\n",
        "\n",
        "* **Locate the affected function**\n",
        "\n",
        "( Correct.\n",
        "Nicely done! Start working on the function that produced the error, and the function(s) that called it. )  "
      ]
    },
    {
      "cell_type": "markdown",
      "metadata": {
        "id": "xFKVZq1B7KM0"
      },
      "source": [
        "### When debugging code, what command can you use to figure out how your program reached the failed state?  \n",
        "\n",
        "\n",
        "* gdb    \n",
        "\n",
        "\n",
        "* ulimit  \n",
        "\n",
        "\n",
        "* list\n",
        "\n",
        "\n",
        "* **backtrace**\n",
        "\n",
        "( Correct.\n",
        "Nice job! The backtrace command can be used to show a summary of the function calls that were used to the point where the failure occurs. )   "
      ]
    },
    {
      "cell_type": "markdown",
      "metadata": {
        "id": "UMYbTYc67koK"
      },
      "source": [
        "### When debugging in Python, what command can you use to run the program until it crashes with an error?\n",
        "\n",
        "\n",
        "* pdb3\n",
        "\n",
        "\n",
        "* next\n",
        "\n",
        "\n",
        "* KeyError\n",
        "\n",
        "\n",
        "* **continue**\n",
        "\n",
        "( Correct.\n",
        "Awesome! Running the continue command after starting the pdb3 debugger will execute the program until it finishes or crashes. )"
      ]
    }
  ]
}