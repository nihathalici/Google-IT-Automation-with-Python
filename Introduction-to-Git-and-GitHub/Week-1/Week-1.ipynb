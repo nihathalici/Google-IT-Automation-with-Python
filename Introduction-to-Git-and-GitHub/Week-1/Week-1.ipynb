{
  "nbformat": 4,
  "nbformat_minor": 0,
  "metadata": {
    "colab": {
      "name": "Untitled1.ipynb",
      "provenance": [],
      "collapsed_sections": []
    },
    "kernelspec": {
      "name": "python3",
      "display_name": "Python 3"
    }
  },
  "cells": [
    {
      "cell_type": "markdown",
      "metadata": {
        "id": "OKnyhHDyDG87"
      },
      "source": [
        "# Week-1"
      ]
    },
    {
      "cell_type": "markdown",
      "metadata": {
        "id": "WOUIQQYeDNna"
      },
      "source": [
        "### What’s the goal of a version control system?\n",
        "\n",
        "\n",
        "* To make sure that our code has no bugs\n",
        "\n",
        "\n",
        "* To have backup copies of our code\n",
        "\n",
        "\n",
        "* To store code, images, configuration, and videos\n",
        "\n",
        "* **To keep track of changes made to our files**\n",
        "\n",
        "( Correct.\n",
        "Right on! A version control system allows us to keep track of when and who did what changes to our files. Those can be code, configuration, images, or whatever else we need to track. )"
      ]
    },
    {
      "cell_type": "markdown",
      "metadata": {
        "id": "Wz-m5DHlD8IC"
      },
      "source": [
        "### What’s the goal of the diff tool?\n",
        "\n",
        "\n",
        "* To keep track of changes to our files\n",
        "\n",
        "\n",
        "* To check if our changes make sense\n",
        "\n",
        "\n",
        "* To highlight new lines in Python files\n",
        "\n",
        "\n",
        "* **To show the differences between two files**\n",
        "\n",
        "( Correct.\n",
        "You got it! The diff tool shows all the differences between any type of file. By highlighting what’s changed, it helps us understand the changes and see how the files have been modified. )"
      ]
    },
    {
      "cell_type": "markdown",
      "metadata": {
        "id": "akw5C2PwEWhM"
      },
      "source": [
        "### What does the patch command do?\n",
        "\n",
        "\n",
        "* It generates a file with the differences between two files.\n",
        "\n",
        "\n",
        "* It shows the changes made in a directory of files.\n",
        "\n",
        "\n",
        "* It redirects the contents of a file into standard input.\n",
        "\n",
        "\n",
        "* **It applies the changes contained in a diff file to another file.**\n",
        "\n",
        "( Correct.\n",
        "Right on! While diff is the command that generates the difference between two files, patch is the command that applies those differences to the original file. )"
      ]
    },
    {
      "cell_type": "markdown",
      "metadata": {
        "id": "6_o98rxwEx6v"
      },
      "source": [
        "### We've prepared a diff file with the changes that need to be applied to the script. What does our colleague need to do now?\n",
        "\n",
        "\n",
        "* Look at the changes in the diff file and manually modify the original file with those same changes.\n",
        "\n",
        "\n",
        "* Run diff disk_usage.diff disk_usage.py.\n",
        "\n",
        "\n",
        "* Ask us to send them the full file, not just the diff file.\n",
        "\n",
        "\n",
        "* **Run patch disk_usage.py < disk_usage.diff.**\n",
        "\n",
        "( Correct.\n",
        "You nailed it! To automatically apply changes to a file, we need to run the patch command on the file that we want to modify with the diff file as input. )"
      ]
    },
    {
      "cell_type": "markdown",
      "metadata": {
        "id": "rfuMviq6H49h"
      },
      "source": [
        "### What does a version control system do?\n",
        "\n",
        "\n",
        "* It groups all related code.\n",
        "\n",
        "\n",
        "* It explains why a change was made.\n",
        "\n",
        "\n",
        "* It prevents us from changing files by mistake.\n",
        "\n",
        "* **It keeps track of changes we do to our files.**\n",
        "\n",
        "( Correct.\n",
        "Spot on! By keeping track of the changes that we make to our files, a VCS lets us know when a file changed, who changed it, and also lets us easily roll back those changes. )"
      ]
    },
    {
      "cell_type": "markdown",
      "metadata": {
        "id": "IBpKi360IWKV"
      },
      "source": [
        "### Why is a version control system useful, even if it's used only by a single person? Check all that apply.\n",
        "\n",
        "\n",
        "* **Seeing the history of the changes helps us understand what changed and why.**\n",
        "\n",
        "( Correct.\n",
        "You got it! One of the main benefits of a VCS is that you can see the history of how files changed and understand what changed at each step and what motivated the change. )\n",
        "\n",
        "\n",
        "* Tracking code in a VCS ensures that it's bug free.\n",
        "\n",
        "\n",
        "* **Tracking changes allows for easy rollbacks when a problem is detected.**\n",
        "\n",
        "( Correct.\n",
        "Right on! By having each change tracked in the VCS, it's very easy to go back to previous versions when an issue with a change is discovered. )\n",
        "\n",
        "\n",
        "* Storing files in a VCS avoids the need for any kind of backups."
      ]
    },
    {
      "cell_type": "markdown",
      "metadata": {
        "id": "VyNeCxpHIyIb"
      },
      "source": [
        "### What characteristics make Git particularly powerful? Check all that apply.\n",
        "\n",
        "\n",
        "* It was created by Linus Torvalds in 2005.\n",
        "\n",
        "\n",
        "* **It's a distributed VCS, which means that each developer has a full copy of the repository.**\n",
        "\n",
        "( Correct.\n",
        "You nailed it! Because each contributor to a Git repo has a full copy of the repository, they can interact with the tracked files without needing a coordinating server. In turn, this improves collaboration. )\n",
        "\n",
        "\n",
        "* It's maintained by a team of distributed developers.\n",
        "\n",
        "\n",
        "* **Repositories can be used by as many developers as needed.**\n",
        "\n",
        "( Correct.\n",
        "Right on! Because of the way Git was designed, repositories can be useful for any number of developers, from one to thousands. )"
      ]
    },
    {
      "cell_type": "markdown",
      "metadata": {
        "id": "8XlzXH5aJoP6"
      },
      "source": [
        "### What’s the command that you need to run to check what version of Git is currently installed in your computer?\n",
        "\n",
        "\n",
        "* git init\n",
        "\n",
        "\n",
        "* git show version\n",
        "\n",
        "\n",
        "* git commit\n",
        "\n",
        "\n",
        "* **git --version**\n",
        "\n",
        "( Correct.\n",
        "You got it! Running git --version in your computer will display the currently installed version of Git (if Git is installed on your computer). )"
      ]
    },
    {
      "cell_type": "markdown",
      "metadata": {
        "id": "na1kaFd5KHCi"
      },
      "source": [
        "### What are the git directory and the working tree?\n",
        "\n",
        "\n",
        "* The git directory stores configuration settings and the working tree stores the history of the files.\n",
        "\n",
        "\n",
        "* The git directory is copied to the computer and the working tree stays in the remote repository.\n",
        "\n",
        "\n",
        "* The git directory is a sandbox for changing the files and the working tree contains old versions of the files.\n",
        "\n",
        "\n",
        "* **The git directory contains all the changes and their history and the working tree contains the current versions of the files.**\n",
        "\n",
        "( Correct.\n",
        "Awesome! The git directory acts as a database for all the changes tracked in Git and the working tree acts as a sandbox where we can edit the current versions of the files. )"
      ]
    },
    {
      "cell_type": "markdown",
      "metadata": {
        "id": "JnWWa3e4Kbn1"
      },
      "source": [
        "### What do we need to do after modifying a file tracked by Git?\n",
        "\n",
        "\n",
        "* We need to commit the file, so that the changes will become part of the staging area.\n",
        "\n",
        "\n",
        "* We need to add the file to the Git directory.\n",
        "\n",
        "\n",
        "* We need to change to a different working tree.\n",
        "\n",
        "* **We need to stage the file, so that the changes will be included in the next commit.**\n",
        "\n",
        "( Correct.\n",
        "You nailed it! After modifying a file, we need to stage those changes and then commit them afterwards. )"
      ]
    },
    {
      "cell_type": "markdown",
      "metadata": {
        "id": "SGk6cU2TK1MD"
      },
      "source": [
        "### When committing new files or changes with git commit, the user is asked to provide a commit message. What will happen if an empty commit message is entered?\n",
        "\n",
        "\n",
        "* It will make it difficult to track bugs without commit messages.\n",
        "\n",
        "\n",
        "* The info shown with the git log command will show no commit message.\n",
        "\n",
        "\n",
        "* The commit will ignore untracked files or files that weren't staged.\n",
        "\n",
        "* **The commit will be aborted.**\n",
        "\n",
        "( Correct.\n",
        "Nice work! You can’t commit with an empty commit message. )"
      ]
    },
    {
      "cell_type": "markdown",
      "metadata": {
        "id": "gQXniAfsLOaq"
      },
      "source": [
        "### What should your commit message look like?\n",
        "\n",
        "\n",
        "* A jumble of words\n",
        "\n",
        "\n",
        "* A description of no more than 50 characters\n",
        "\n",
        "\n",
        "* Always write as much as you can about the changes.\n",
        "\n",
        "* **A short description of the change (up to 50 characters), followed by one or more paragraphs giving more details of the change (if needed).**\n",
        "\n",
        "( Correct.\n",
        "Awesome! You want your message to contain all relevant information without being confusing. )"
      ]
    }
  ]
}