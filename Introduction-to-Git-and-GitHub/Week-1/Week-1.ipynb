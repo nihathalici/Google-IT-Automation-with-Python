{
  "nbformat": 4,
  "nbformat_minor": 0,
  "metadata": {
    "colab": {
      "name": "Untitled1.ipynb",
      "provenance": [],
      "collapsed_sections": []
    },
    "kernelspec": {
      "name": "python3",
      "display_name": "Python 3"
    }
  },
  "cells": [
    {
      "cell_type": "markdown",
      "metadata": {
        "id": "OKnyhHDyDG87"
      },
      "source": [
        "# Week-1"
      ]
    },
    {
      "cell_type": "markdown",
      "metadata": {
        "id": "WOUIQQYeDNna"
      },
      "source": [
        "### What’s the goal of a version control system?\n",
        "\n",
        "\n",
        "* To make sure that our code has no bugs\n",
        "\n",
        "\n",
        "* To have backup copies of our code\n",
        "\n",
        "\n",
        "* To store code, images, configuration, and videos\n",
        "\n",
        "* **To keep track of changes made to our files**\n",
        "\n",
        "( Correct.\n",
        "Right on! A version control system allows us to keep track of when and who did what changes to our files. Those can be code, configuration, images, or whatever else we need to track. )"
      ]
    },
    {
      "cell_type": "markdown",
      "metadata": {
        "id": "Wz-m5DHlD8IC"
      },
      "source": [
        "### What’s the goal of the diff tool?\n",
        "\n",
        "\n",
        "* To keep track of changes to our files\n",
        "\n",
        "\n",
        "* To check if our changes make sense\n",
        "\n",
        "\n",
        "* To highlight new lines in Python files\n",
        "\n",
        "\n",
        "* **To show the differences between two files**\n",
        "\n",
        "( Correct.\n",
        "You got it! The diff tool shows all the differences between any type of file. By highlighting what’s changed, it helps us understand the changes and see how the files have been modified. )"
      ]
    },
    {
      "cell_type": "markdown",
      "metadata": {
        "id": "akw5C2PwEWhM"
      },
      "source": [
        "### What does the patch command do?\n",
        "\n",
        "\n",
        "* It generates a file with the differences between two files.\n",
        "\n",
        "\n",
        "* It shows the changes made in a directory of files.\n",
        "\n",
        "\n",
        "* It redirects the contents of a file into standard input.\n",
        "\n",
        "\n",
        "* **It applies the changes contained in a diff file to another file.**\n",
        "\n",
        "( Correct.\n",
        "Right on! While diff is the command that generates the difference between two files, patch is the command that applies those differences to the original file. )"
      ]
    },
    {
      "cell_type": "markdown",
      "metadata": {
        "id": "6_o98rxwEx6v"
      },
      "source": [
        "### We've prepared a diff file with the changes that need to be applied to the script. What does our colleague need to do now?\n",
        "\n",
        "\n",
        "* Look at the changes in the diff file and manually modify the original file with those same changes.\n",
        "\n",
        "\n",
        "* Run diff disk_usage.diff disk_usage.py.\n",
        "\n",
        "\n",
        "* Ask us to send them the full file, not just the diff file.\n",
        "\n",
        "\n",
        "* **Run patch disk_usage.py < disk_usage.diff.**\n",
        "\n",
        "( Correct.\n",
        "You nailed it! To automatically apply changes to a file, we need to run the patch command on the file that we want to modify with the diff file as input. )"
      ]
    },
    {
      "cell_type": "markdown",
      "metadata": {
        "id": "rfuMviq6H49h"
      },
      "source": [
        "### What does a version control system do?\n",
        "\n",
        "\n",
        "* It groups all related code.\n",
        "\n",
        "\n",
        "* It explains why a change was made.\n",
        "\n",
        "\n",
        "* It prevents us from changing files by mistake.\n",
        "\n",
        "* **It keeps track of changes we do to our files.**\n",
        "\n",
        "( Correct.\n",
        "Spot on! By keeping track of the changes that we make to our files, a VCS lets us know when a file changed, who changed it, and also lets us easily roll back those changes. )"
      ]
    },
    {
      "cell_type": "markdown",
      "metadata": {
        "id": "IBpKi360IWKV"
      },
      "source": [
        "### Why is a version control system useful, even if it's used only by a single person? Check all that apply.\n",
        "\n",
        "\n",
        "* **Seeing the history of the changes helps us understand what changed and why.**\n",
        "\n",
        "( Correct.\n",
        "You got it! One of the main benefits of a VCS is that you can see the history of how files changed and understand what changed at each step and what motivated the change. )\n",
        "\n",
        "\n",
        "* Tracking code in a VCS ensures that it's bug free.\n",
        "\n",
        "\n",
        "* **Tracking changes allows for easy rollbacks when a problem is detected.**\n",
        "\n",
        "( Correct.\n",
        "Right on! By having each change tracked in the VCS, it's very easy to go back to previous versions when an issue with a change is discovered. )\n",
        "\n",
        "\n",
        "* Storing files in a VCS avoids the need for any kind of backups."
      ]
    },
    {
      "cell_type": "markdown",
      "metadata": {
        "id": "VyNeCxpHIyIb"
      },
      "source": [
        "### What characteristics make Git particularly powerful? Check all that apply.\n",
        "\n",
        "\n",
        "* It was created by Linus Torvalds in 2005.\n",
        "\n",
        "\n",
        "* **It's a distributed VCS, which means that each developer has a full copy of the repository.**\n",
        "\n",
        "( Correct.\n",
        "You nailed it! Because each contributor to a Git repo has a full copy of the repository, they can interact with the tracked files without needing a coordinating server. In turn, this improves collaboration. )\n",
        "\n",
        "\n",
        "* It's maintained by a team of distributed developers.\n",
        "\n",
        "\n",
        "* **Repositories can be used by as many developers as needed.**\n",
        "\n",
        "( Correct.\n",
        "Right on! Because of the way Git was designed, repositories can be useful for any number of developers, from one to thousands. )"
      ]
    }
  ]
}