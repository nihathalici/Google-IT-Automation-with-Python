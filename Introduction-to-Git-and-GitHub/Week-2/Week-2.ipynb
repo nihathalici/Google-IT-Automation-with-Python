{
  "nbformat": 4,
  "nbformat_minor": 0,
  "metadata": {
    "colab": {
      "name": "Untitled1.ipynb",
      "provenance": [],
      "collapsed_sections": []
    },
    "kernelspec": {
      "name": "python3",
      "display_name": "Python 3"
    }
  },
  "cells": [
    {
      "cell_type": "markdown",
      "metadata": {
        "id": "OKnyhHDyDG87"
      },
      "source": [
        "# Week-2"
      ]
    },
    {
      "cell_type": "markdown",
      "metadata": {
        "id": "Z-jwyuv0a-m6"
      },
      "source": [
        "### If we're making a small change and want to skip the staging step, which two flags do we need to add to the git commit command? Check all that apply.\n",
        "\n",
        "\n",
        "* -t\n",
        "\n",
        "\n",
        "* -l\n",
        "\n",
        "* **-m**\n",
        "\n",
        "( Correct.\n",
        "Right on! The -m flag allows us to directly add the commit message to the command. )\n",
        "\n",
        "* **-a**\n",
        "\n",
        "( Correct.\n",
        "Awesome! The -a flag lets us add and commit in the same step. )"
      ]
    },
    {
      "cell_type": "markdown",
      "metadata": {
        "id": "WATC4Q5GbY5x"
      },
      "source": [
        "### If we want to see a specific commit, which command would we use along with the commit ID?\n",
        "\n",
        "\n",
        "* git log --stat\n",
        "\n",
        "\n",
        "* git log -p\n",
        "\n",
        "\n",
        "* git commit -am\n",
        "\n",
        "* **git show**\n",
        "\n",
        "( Correct.\n",
        "You nailed it! Taking the commit ID, git show will show information about the commit and its associated patch. )"
      ]
    },
    {
      "cell_type": "markdown",
      "metadata": {
        "id": "G2bpCN6mb3gt"
      },
      "source": [
        "### If we need to delete a file from our repository, we'll need to run a command to delete the file and then stage and commit the change. Which command would we use to delete the file?\n",
        "\n",
        "* git mv\n",
        "\n",
        "\n",
        "* git diff\n",
        "\n",
        "\n",
        "* git del\n",
        "\n",
        "* **git rm**\n",
        "\n",
        "( Correct\n",
        "Woohoo! This command removes files from the working tree and from the index. )"
      ]
    },
    {
      "cell_type": "markdown",
      "metadata": {
        "id": "7KpiNc3jcZ_E"
      },
      "source": [
        "### What is the purpose of the git checkout command?\n",
        "\n",
        "\n",
        "* It finalizes staged changes.\n",
        "\n",
        "\n",
        "* It skips staging and directly commits.\n",
        "\n",
        "\n",
        "* It displays the current status of the commit.\n",
        "\n",
        "* **It reverts changes to modified files before they are staged.**\n",
        "\n",
        "( Correct.\n",
        "Right on! git checkout restores files to the latest stored snapshot, reverting any changes before staging. )"
      ]
    },
    {
      "cell_type": "markdown",
      "metadata": {
        "id": "VDRAhyxEcxmX"
      },
      "source": [
        "### What does the git commit --amend do?\n",
        "\n",
        "\n",
        "* Add an error log to the commit.\n",
        "\n",
        "\n",
        "* Remove files from the staging area.\n",
        "\n",
        "\n",
        "* Change the commit message.\n",
        "\n",
        "\n",
        "* **Overwrite the previous commit.** \n",
        "\n",
        "( Correct.\n",
        "Awesome! git commit --amend allows us to modify and add changes to the most recent commit. ) "
      ]
    },
    {
      "cell_type": "markdown",
      "metadata": {
        "id": "LH7qniQMdK-2"
      },
      "source": [
        "### Which of the following is true about the git revert command?\n",
        "\n",
        "\n",
        "* It undoes a commit as though it never happened.\n",
        "\n",
        "\n",
        "* The output of git revert is not the same as a regular commit.\n",
        "\n",
        "\n",
        "* It does not include the ID of the commit that was reverted.\n",
        "\n",
        "* **It creates a new commit with inverse changes.**\n",
        "\n",
        "( Correct.\n",
        "Awesome! With git revert, a new commit is created with inverse changes. This cancels previous changes instead of making it as though the original commit never happened. )"
      ]
    },
    {
      "cell_type": "markdown",
      "metadata": {
        "id": "JxhFia9Wdj-5"
      },
      "source": [
        "### Which of the following is NOT true about the SHA1 hash numbers that Git uses to identify commits?\n",
        "\n",
        "\n",
        "* They provide the consistency that is critical for distributed systems such as Git.\n",
        "\n",
        "\n",
        "* They are created using the commit message, date, author, and the snapshot taken of the working tree.\n",
        "\n",
        "\n",
        "* They are composed of 40 characters.\n",
        "\n",
        "* **Git requires the entire hash ID to identify a commit.**\n",
        "\n",
        "( Correct.\n",
        "You nailed it! Git can identify a commit using the first few hash numbers as long as there is only one matching possibility. )"
      ]
    }
  ]
}