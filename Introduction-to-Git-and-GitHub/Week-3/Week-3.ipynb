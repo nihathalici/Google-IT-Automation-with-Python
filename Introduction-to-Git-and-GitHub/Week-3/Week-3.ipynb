{
  "nbformat": 4,
  "nbformat_minor": 0,
  "metadata": {
    "colab": {
      "name": "Untitled1.ipynb",
      "provenance": [],
      "collapsed_sections": []
    },
    "kernelspec": {
      "name": "python3",
      "display_name": "Python 3"
    }
  },
  "cells": [
    {
      "cell_type": "markdown",
      "metadata": {
        "id": "OKnyhHDyDG87"
      },
      "source": [
        "# Week-3"
      ]
    },
    {
      "cell_type": "markdown",
      "metadata": {
        "id": "T8VAJsnGcI9A"
      },
      "source": [
        "### Which BEST describes GitHub?\n",
        "\n",
        "\n",
        "* A distributed Version Control System (VCS)\n",
        "\n",
        "\n",
        "* A Software Configuration Management system (SCM)\n",
        "\n",
        "\n",
        "* A wiki site for Git users\n",
        "\n",
        "* **A remote repository hosting service for Git**\n",
        "\n",
        "( Correct\n",
        "Nice job! GitHub provides free access to a Git server for public and private repositories. )"
      ]
    },
    {
      "cell_type": "markdown",
      "metadata": {
        "id": "RIpJcKxOgffV"
      },
      "source": [
        "### After making changes to our local repository, how do we update the remote repository to reflect our changes?\n",
        "\n",
        "\n",
        "* Use the git clone command to clone the repository to the server.\n",
        "\n",
        "\n",
        "* Upload a README.md file with Markdown.\n",
        "\n",
        "\n",
        "* Use the Create a repository form on the website\n",
        "\n",
        "* **Use the git push command to send snapshots to the remote repository.**\n",
        "\n",
        "( Correct.\n",
        "Awesome! The git push command gathers all the snapshots we've taken and sends them to the remote repository. )"
      ]
    },
    {
      "cell_type": "markdown",
      "metadata": {
        "id": "QrId0TwN7mwN"
      },
      "source": [
        "### What will happen if the master repository receives a major update since the last local copy was synced?\n",
        "\n",
        "\n",
        "* Git will push your local copy.\n",
        "\n",
        "\n",
        "* Nothing will happen.\n",
        "\n",
        "\n",
        "* Git will automatically merge the local copy with the master.\n",
        "\n",
        "* **Git will let you know it's time for an update.**\n",
        "\n",
        "( Correct.\n",
        "Great job! If there are pending changes in the master branch, Git will let you know. )"
      ]
    },
    {
      "cell_type": "markdown",
      "metadata": {
        "id": "jkiXghZPETXk"
      },
      "source": [
        "### If we want to make a change to a remote branch, what must we do?\n",
        "\n",
        "\n",
        "* Directly make the change\n",
        "\n",
        "\n",
        "* Use the git branch -r command\n",
        "\n",
        "\n",
        "* Use the git remote -v command\n",
        "\n",
        "* **Pull the remote branch, merge it with the local branch, then push it back to its origin.**\n",
        "\n",
        "( Correct.\n",
        "Excellent! We still have to go through the normal workflow to change remote branches. )"
      ]
    }
  ]
}