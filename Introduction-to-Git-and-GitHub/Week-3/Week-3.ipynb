{
  "nbformat": 4,
  "nbformat_minor": 0,
  "metadata": {
    "colab": {
      "name": "Untitled1.ipynb",
      "provenance": [],
      "collapsed_sections": []
    },
    "kernelspec": {
      "name": "python3",
      "display_name": "Python 3"
    }
  },
  "cells": [
    {
      "cell_type": "markdown",
      "metadata": {
        "id": "OKnyhHDyDG87"
      },
      "source": [
        "# Week-3"
      ]
    },
    {
      "cell_type": "markdown",
      "metadata": {
        "id": "T8VAJsnGcI9A"
      },
      "source": [
        "### Which BEST describes GitHub?\n",
        "\n",
        "\n",
        "* A distributed Version Control System (VCS)\n",
        "\n",
        "\n",
        "* A Software Configuration Management system (SCM)\n",
        "\n",
        "\n",
        "* A wiki site for Git users\n",
        "\n",
        "* **A remote repository hosting service for Git**\n",
        "\n",
        "( Correct\n",
        "Nice job! GitHub provides free access to a Git server for public and private repositories. )"
      ]
    },
    {
      "cell_type": "markdown",
      "metadata": {
        "id": "RIpJcKxOgffV"
      },
      "source": [
        "### After making changes to our local repository, how do we update the remote repository to reflect our changes?\n",
        "\n",
        "\n",
        "* Use the git clone command to clone the repository to the server.\n",
        "\n",
        "\n",
        "* Upload a README.md file with Markdown.\n",
        "\n",
        "\n",
        "* Use the Create a repository form on the website\n",
        "\n",
        "* **Use the git push command to send snapshots to the remote repository.**\n",
        "\n",
        "( Correct.\n",
        "Awesome! The git push command gathers all the snapshots we've taken and sends them to the remote repository. )"
      ]
    },
    {
      "cell_type": "markdown",
      "metadata": {
        "id": "QrId0TwN7mwN"
      },
      "source": [
        "### What will happen if the master repository receives a major update since the last local copy was synced?\n",
        "\n",
        "\n",
        "* Git will push your local copy.\n",
        "\n",
        "\n",
        "* Nothing will happen.\n",
        "\n",
        "\n",
        "* Git will automatically merge the local copy with the master.\n",
        "\n",
        "* **Git will let you know it's time for an update.**\n",
        "\n",
        "( Correct.\n",
        "Great job! If there are pending changes in the master branch, Git will let you know. )"
      ]
    },
    {
      "cell_type": "markdown",
      "metadata": {
        "id": "jkiXghZPETXk"
      },
      "source": [
        "### If we want to make a change to a remote branch, what must we do?\n",
        "\n",
        "\n",
        "* Directly make the change\n",
        "\n",
        "\n",
        "* Use the git branch -r command\n",
        "\n",
        "\n",
        "* Use the git remote -v command\n",
        "\n",
        "* **Pull the remote branch, merge it with the local branch, then push it back to its origin.**\n",
        "\n",
        "( Correct.\n",
        "Excellent! We still have to go through the normal workflow to change remote branches. )"
      ]
    },
    {
      "cell_type": "markdown",
      "metadata": {
        "id": "rAyUaA93FeSY"
      },
      "source": [
        "### What’s the main difference between git fetch and git pull?\n",
        "\n",
        "* git pull fetches remote updates but doesn't merge, while git fetch does.\n",
        "\n",
        "\n",
        "* git fetch clones the entire repository.\n",
        "\n",
        "\n",
        "* git pull requires a password while git fetch doesn't.\n",
        "\n",
        "* **git fetch fetches remote updates but doesn't merge; git pull fetches remote updates and merges.**\n",
        "\n",
        "( Correct.\n",
        "Nice job! git pull instantly merges while git fetch only retrieves remote updates. )"
      ]
    },
    {
      "cell_type": "markdown",
      "metadata": {
        "id": "qaZ7dWKEW9pb"
      },
      "source": [
        "### Assuming no merge conflicts, which type of merge does git pull perform automatically?\n",
        "\n",
        "\n",
        "* Three-way merge\n",
        "\n",
        "\n",
        "* Explicit merge\n",
        "\n",
        "\n",
        "* Half-merge\n",
        "\n",
        "* **Fast-forward merge**\n",
        "\n",
        "( Correct.\n",
        "Awesome! As long as there are no conflicts, Git will move the current branch tip up to the target branch tip and combine histories of both commits. )"
      ]
    },
    {
      "cell_type": "markdown",
      "metadata": {
        "id": "1HyqTCyCj4v5"
      },
      "source": [
        "### What should you do with the <<<<<<<, =======, and >>>>>>> conflict markers when resolving a merge conflict?\n",
        "\n",
        "\n",
        "* Leave the conflict markers surrounding the code that you want to keep.\n",
        "\n",
        "\n",
        "* Remove the <<<<<<< and >>>>>>> markers, and put the ======= marker in front of the lines that you want to keep.\n",
        "\n",
        "\n",
        "* Do nothing.\n",
        "\n",
        "* **Remove all of the conflict markers and only leave the code as it should be after the merge.**\n",
        "\n",
        "( Correct.\n",
        "Awesome! Conflict markers aren’t required when resolving a merge conflict. )"
      ]
    },
    {
      "cell_type": "markdown",
      "metadata": {
        "id": "8dg0IYHkiu7p"
      },
      "source": [
        "### How do you switch to a new local branch?\n",
        "\n",
        "\n",
        "* git branch b\n",
        "\n",
        "\n",
        "* git pull origin branch\n",
        "\n",
        "\n",
        "* git merge branch\n",
        "\n",
        "* **git checkout -b <branch name>**\n",
        "\n",
        "( Correct.\n",
        "Great job! The command git checkout -b <branch name> will first create a new branch and then switch to it. )"
      ]
    },
    {
      "cell_type": "markdown",
      "metadata": {
        "id": "wq4h5TjZ_KS0"
      },
      "source": [
        "### What does “git rebase refactor” do?\n",
        "\n",
        "\n",
        "* Move the refactor branch on top of the current branch\n",
        "\n",
        "\n",
        "* Move the refactor branch on top of the master branch\n",
        "\n",
        "\n",
        "* Move the master branch on top of the refactor branch\n",
        "\n",
        "* **Move the current branch on top of the refactor branch**\n",
        "\n",
        "( Correct.\n",
        "Nailed it! This makes debugging easier and prevents three-way merges by transferring the completed work from one branch to another. )"
      ]
    },
    {
      "cell_type": "markdown",
      "metadata": {
        "id": "6MgCC4F0zm6V"
      },
      "source": [
        "### Generally, git rebase is an alternative to which command?\n",
        "\n",
        "\n",
        "* git fetch\n",
        "\n",
        "\n",
        "* git push\n",
        "\n",
        "\n",
        "* git pull\n",
        "\n",
        "* **git merge**\n",
        "\n",
        "( Correct.\n",
        "Awesome! Rebasing instead of merging rewrites history and maintains linearity, making for cleaner code. )"
      ]
    },
    {
      "cell_type": "markdown",
      "metadata": {
        "id": "msHTbXs1VQpW"
      },
      "source": [
        "### Which of the following statements is true regarding best practices for collaboration?\n",
        "\n",
        "\n",
        "* Keep the stable version of the project in the master branch, and the latest version on a separate branch.\n",
        "\n",
        "\n",
        "* Try to fit all changes into one large change.\n",
        "\n",
        "\n",
        "* You should always rebase changes that have been pushed to a remote repo.\n",
        "\n",
        "\n",
        "* **Always synchronize your branches before starting any work on your own.**\n",
        "\n",
        "( Correct.\n",
        "Excellent! This way, when you start changing code, you're starting from the most recent version, minimizing chances of conflicts or the need for rebasing. )"
      ]
    }
  ]
}