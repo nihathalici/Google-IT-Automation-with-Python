{
  "nbformat": 4,
  "nbformat_minor": 0,
  "metadata": {
    "colab": {
      "name": "Untitled1.ipynb",
      "provenance": [],
      "collapsed_sections": []
    },
    "kernelspec": {
      "name": "python3",
      "display_name": "Python 3"
    }
  },
  "cells": [
    {
      "cell_type": "markdown",
      "metadata": {
        "id": "OKnyhHDyDG87"
      },
      "source": [
        "# Week-3"
      ]
    },
    {
      "cell_type": "markdown",
      "metadata": {
        "id": "T8VAJsnGcI9A"
      },
      "source": [
        "### Which BEST describes GitHub?\n",
        "\n",
        "\n",
        "* A distributed Version Control System (VCS)\n",
        "\n",
        "\n",
        "* A Software Configuration Management system (SCM)\n",
        "\n",
        "\n",
        "* A wiki site for Git users\n",
        "\n",
        "* **A remote repository hosting service for Git**\n",
        "\n",
        "( Correct\n",
        "Nice job! GitHub provides free access to a Git server for public and private repositories. )"
      ]
    }
  ]
}